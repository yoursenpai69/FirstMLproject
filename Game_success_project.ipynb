{
 "cells": [
  {
   "cell_type": "markdown",
   "metadata": {},
   "source": [
    "# ML project on predicting whether a game will be a success or a failure\n",
    "\n",
    "## This is my first Induvidual ML project so I didn't make it too complicated.\n",
    "## The aim of this project is too predict whether a game will successful or not and the dataset that I'm using is  on kaggle and it's named 'Video game sales and ratings'. I couldnt get a dataset for the budgets of different games so I'm using the mean budget and profit indices to produce the outcome. I decided that 1 million units would be deemed a success for a game from AAA studio and 50k units would be deemed  success for a game from an Indie studio"
   ]
  },
  {
   "cell_type": "code",
   "execution_count": 1,
   "metadata": {
    "scrolled": false
   },
   "outputs": [],
   "source": [
    "#importing basic modules required\n",
    "import pandas as pd\n",
    "import numpy as np\n",
    "import matplotlib.pyplot as plt\n",
    "import seaborn as sns\n",
    "from sklearn.feature_selection import SelectKBest\n",
    "from sklearn.feature_selection import chi2\n",
    "from sklearn.preprocessing import OneHotEncoder\n",
    "%matplotlib inline"
   ]
  },
  {
   "cell_type": "code",
   "execution_count": 2,
   "metadata": {},
   "outputs": [],
   "source": [
    "#importing the csv file  and creating a dataset\n",
    "df = pd.read_csv(\"Video_Games_Sales_as_at_22_Dec_2016.csv\")"
   ]
  },
  {
   "cell_type": "code",
   "execution_count": 3,
   "metadata": {
    "scrolled": true
   },
   "outputs": [
    {
     "data": {
      "text/html": [
       "<div>\n",
       "<style scoped>\n",
       "    .dataframe tbody tr th:only-of-type {\n",
       "        vertical-align: middle;\n",
       "    }\n",
       "\n",
       "    .dataframe tbody tr th {\n",
       "        vertical-align: top;\n",
       "    }\n",
       "\n",
       "    .dataframe thead th {\n",
       "        text-align: right;\n",
       "    }\n",
       "</style>\n",
       "<table border=\"1\" class=\"dataframe\">\n",
       "  <thead>\n",
       "    <tr style=\"text-align: right;\">\n",
       "      <th></th>\n",
       "      <th>Name</th>\n",
       "      <th>Platform</th>\n",
       "      <th>Year_of_Release</th>\n",
       "      <th>Genre</th>\n",
       "      <th>Publisher</th>\n",
       "      <th>NA_Sales</th>\n",
       "      <th>EU_Sales</th>\n",
       "      <th>JP_Sales</th>\n",
       "      <th>Other_Sales</th>\n",
       "      <th>Global_Sales</th>\n",
       "      <th>Critic_Score</th>\n",
       "      <th>Critic_Count</th>\n",
       "      <th>User_Score</th>\n",
       "      <th>User_Count</th>\n",
       "      <th>Developer</th>\n",
       "      <th>Rating</th>\n",
       "    </tr>\n",
       "  </thead>\n",
       "  <tbody>\n",
       "    <tr>\n",
       "      <th>0</th>\n",
       "      <td>Wii Sports</td>\n",
       "      <td>Wii</td>\n",
       "      <td>2006.0</td>\n",
       "      <td>Sports</td>\n",
       "      <td>Nintendo</td>\n",
       "      <td>41.36</td>\n",
       "      <td>28.96</td>\n",
       "      <td>3.77</td>\n",
       "      <td>8.45</td>\n",
       "      <td>82.53</td>\n",
       "      <td>76.0</td>\n",
       "      <td>51.0</td>\n",
       "      <td>8</td>\n",
       "      <td>322.0</td>\n",
       "      <td>Nintendo</td>\n",
       "      <td>E</td>\n",
       "    </tr>\n",
       "    <tr>\n",
       "      <th>1</th>\n",
       "      <td>Super Mario Bros.</td>\n",
       "      <td>NES</td>\n",
       "      <td>1985.0</td>\n",
       "      <td>Platform</td>\n",
       "      <td>Nintendo</td>\n",
       "      <td>29.08</td>\n",
       "      <td>3.58</td>\n",
       "      <td>6.81</td>\n",
       "      <td>0.77</td>\n",
       "      <td>40.24</td>\n",
       "      <td>NaN</td>\n",
       "      <td>NaN</td>\n",
       "      <td>NaN</td>\n",
       "      <td>NaN</td>\n",
       "      <td>NaN</td>\n",
       "      <td>NaN</td>\n",
       "    </tr>\n",
       "    <tr>\n",
       "      <th>2</th>\n",
       "      <td>Mario Kart Wii</td>\n",
       "      <td>Wii</td>\n",
       "      <td>2008.0</td>\n",
       "      <td>Racing</td>\n",
       "      <td>Nintendo</td>\n",
       "      <td>15.68</td>\n",
       "      <td>12.76</td>\n",
       "      <td>3.79</td>\n",
       "      <td>3.29</td>\n",
       "      <td>35.52</td>\n",
       "      <td>82.0</td>\n",
       "      <td>73.0</td>\n",
       "      <td>8.3</td>\n",
       "      <td>709.0</td>\n",
       "      <td>Nintendo</td>\n",
       "      <td>E</td>\n",
       "    </tr>\n",
       "    <tr>\n",
       "      <th>3</th>\n",
       "      <td>Wii Sports Resort</td>\n",
       "      <td>Wii</td>\n",
       "      <td>2009.0</td>\n",
       "      <td>Sports</td>\n",
       "      <td>Nintendo</td>\n",
       "      <td>15.61</td>\n",
       "      <td>10.93</td>\n",
       "      <td>3.28</td>\n",
       "      <td>2.95</td>\n",
       "      <td>32.77</td>\n",
       "      <td>80.0</td>\n",
       "      <td>73.0</td>\n",
       "      <td>8</td>\n",
       "      <td>192.0</td>\n",
       "      <td>Nintendo</td>\n",
       "      <td>E</td>\n",
       "    </tr>\n",
       "    <tr>\n",
       "      <th>4</th>\n",
       "      <td>Pokemon Red/Pokemon Blue</td>\n",
       "      <td>GB</td>\n",
       "      <td>1996.0</td>\n",
       "      <td>Role-Playing</td>\n",
       "      <td>Nintendo</td>\n",
       "      <td>11.27</td>\n",
       "      <td>8.89</td>\n",
       "      <td>10.22</td>\n",
       "      <td>1.00</td>\n",
       "      <td>31.37</td>\n",
       "      <td>NaN</td>\n",
       "      <td>NaN</td>\n",
       "      <td>NaN</td>\n",
       "      <td>NaN</td>\n",
       "      <td>NaN</td>\n",
       "      <td>NaN</td>\n",
       "    </tr>\n",
       "  </tbody>\n",
       "</table>\n",
       "</div>"
      ],
      "text/plain": [
       "                       Name Platform  Year_of_Release         Genre Publisher  \\\n",
       "0                Wii Sports      Wii           2006.0        Sports  Nintendo   \n",
       "1         Super Mario Bros.      NES           1985.0      Platform  Nintendo   \n",
       "2            Mario Kart Wii      Wii           2008.0        Racing  Nintendo   \n",
       "3         Wii Sports Resort      Wii           2009.0        Sports  Nintendo   \n",
       "4  Pokemon Red/Pokemon Blue       GB           1996.0  Role-Playing  Nintendo   \n",
       "\n",
       "   NA_Sales  EU_Sales  JP_Sales  Other_Sales  Global_Sales  Critic_Score  \\\n",
       "0     41.36     28.96      3.77         8.45         82.53          76.0   \n",
       "1     29.08      3.58      6.81         0.77         40.24           NaN   \n",
       "2     15.68     12.76      3.79         3.29         35.52          82.0   \n",
       "3     15.61     10.93      3.28         2.95         32.77          80.0   \n",
       "4     11.27      8.89     10.22         1.00         31.37           NaN   \n",
       "\n",
       "   Critic_Count User_Score  User_Count Developer Rating  \n",
       "0          51.0          8       322.0  Nintendo      E  \n",
       "1           NaN        NaN         NaN       NaN    NaN  \n",
       "2          73.0        8.3       709.0  Nintendo      E  \n",
       "3          73.0          8       192.0  Nintendo      E  \n",
       "4           NaN        NaN         NaN       NaN    NaN  "
      ]
     },
     "execution_count": 3,
     "metadata": {},
     "output_type": "execute_result"
    }
   ],
   "source": [
    "df.head()"
   ]
  },
  {
   "cell_type": "markdown",
   "metadata": {},
   "source": [
    "## Pre-processing"
   ]
  },
  {
   "cell_type": "code",
   "execution_count": 4,
   "metadata": {},
   "outputs": [
    {
     "data": {
      "text/plain": [
       "(0    False\n",
       " 1     True\n",
       " 2    False\n",
       " 3    False\n",
       " 4     True\n",
       " Name: Critic_Score, dtype: bool,\n",
       " 0    False\n",
       " 1     True\n",
       " 2    False\n",
       " 3    False\n",
       " 4     True\n",
       " Name: User_Score, dtype: bool)"
      ]
     },
     "execution_count": 4,
     "metadata": {},
     "output_type": "execute_result"
    }
   ],
   "source": [
    "#removing null values as I don't want to use mean values in consideration of incorrect output\n",
    "df['Critic_Score'].isnull().head(),df['User_Score'].isnull().head()"
   ]
  },
  {
   "cell_type": "code",
   "execution_count": 5,
   "metadata": {},
   "outputs": [
    {
     "data": {
      "text/plain": [
       "Name                object\n",
       "Platform            object\n",
       "Year_of_Release    float64\n",
       "Genre               object\n",
       "Publisher           object\n",
       "NA_Sales           float64\n",
       "EU_Sales           float64\n",
       "JP_Sales           float64\n",
       "Other_Sales        float64\n",
       "Global_Sales       float64\n",
       "Critic_Score       float64\n",
       "Critic_Count       float64\n",
       "User_Score          object\n",
       "User_Count         float64\n",
       "Developer           object\n",
       "Rating              object\n",
       "dtype: object"
      ]
     },
     "execution_count": 5,
     "metadata": {},
     "output_type": "execute_result"
    }
   ],
   "source": [
    "df.dtypes"
   ]
  },
  {
   "cell_type": "code",
   "execution_count": 6,
   "metadata": {},
   "outputs": [
    {
     "data": {
      "text/plain": [
       "(16719, 16)"
      ]
     },
     "execution_count": 6,
     "metadata": {},
     "output_type": "execute_result"
    }
   ],
   "source": [
    "df.shape"
   ]
  },
  {
   "cell_type": "code",
   "execution_count": 7,
   "metadata": {},
   "outputs": [],
   "source": [
    "# I ran into an issue where I couldn't use the dataset without making a copy, So I made this new dataframe consisting of the remaining columns\n",
    "removed = df.copy()\n",
    "removed.dropna(inplace=True)"
   ]
  },
  {
   "cell_type": "code",
   "execution_count": 8,
   "metadata": {
    "scrolled": true
   },
   "outputs": [
    {
     "data": {
      "text/html": [
       "<div>\n",
       "<style scoped>\n",
       "    .dataframe tbody tr th:only-of-type {\n",
       "        vertical-align: middle;\n",
       "    }\n",
       "\n",
       "    .dataframe tbody tr th {\n",
       "        vertical-align: top;\n",
       "    }\n",
       "\n",
       "    .dataframe thead th {\n",
       "        text-align: right;\n",
       "    }\n",
       "</style>\n",
       "<table border=\"1\" class=\"dataframe\">\n",
       "  <thead>\n",
       "    <tr style=\"text-align: right;\">\n",
       "      <th></th>\n",
       "      <th>Name</th>\n",
       "      <th>Platform</th>\n",
       "      <th>Year_of_Release</th>\n",
       "      <th>Genre</th>\n",
       "      <th>Publisher</th>\n",
       "      <th>NA_Sales</th>\n",
       "      <th>EU_Sales</th>\n",
       "      <th>JP_Sales</th>\n",
       "      <th>Other_Sales</th>\n",
       "      <th>Global_Sales</th>\n",
       "      <th>Critic_Score</th>\n",
       "      <th>Critic_Count</th>\n",
       "      <th>User_Score</th>\n",
       "      <th>User_Count</th>\n",
       "      <th>Developer</th>\n",
       "      <th>Rating</th>\n",
       "    </tr>\n",
       "  </thead>\n",
       "  <tbody>\n",
       "    <tr>\n",
       "      <th>0</th>\n",
       "      <td>Wii Sports</td>\n",
       "      <td>Wii</td>\n",
       "      <td>2006.0</td>\n",
       "      <td>Sports</td>\n",
       "      <td>Nintendo</td>\n",
       "      <td>41.36</td>\n",
       "      <td>28.96</td>\n",
       "      <td>3.77</td>\n",
       "      <td>8.45</td>\n",
       "      <td>82.53</td>\n",
       "      <td>76.0</td>\n",
       "      <td>51.0</td>\n",
       "      <td>8</td>\n",
       "      <td>322.0</td>\n",
       "      <td>Nintendo</td>\n",
       "      <td>E</td>\n",
       "    </tr>\n",
       "    <tr>\n",
       "      <th>2</th>\n",
       "      <td>Mario Kart Wii</td>\n",
       "      <td>Wii</td>\n",
       "      <td>2008.0</td>\n",
       "      <td>Racing</td>\n",
       "      <td>Nintendo</td>\n",
       "      <td>15.68</td>\n",
       "      <td>12.76</td>\n",
       "      <td>3.79</td>\n",
       "      <td>3.29</td>\n",
       "      <td>35.52</td>\n",
       "      <td>82.0</td>\n",
       "      <td>73.0</td>\n",
       "      <td>8.3</td>\n",
       "      <td>709.0</td>\n",
       "      <td>Nintendo</td>\n",
       "      <td>E</td>\n",
       "    </tr>\n",
       "    <tr>\n",
       "      <th>3</th>\n",
       "      <td>Wii Sports Resort</td>\n",
       "      <td>Wii</td>\n",
       "      <td>2009.0</td>\n",
       "      <td>Sports</td>\n",
       "      <td>Nintendo</td>\n",
       "      <td>15.61</td>\n",
       "      <td>10.93</td>\n",
       "      <td>3.28</td>\n",
       "      <td>2.95</td>\n",
       "      <td>32.77</td>\n",
       "      <td>80.0</td>\n",
       "      <td>73.0</td>\n",
       "      <td>8</td>\n",
       "      <td>192.0</td>\n",
       "      <td>Nintendo</td>\n",
       "      <td>E</td>\n",
       "    </tr>\n",
       "    <tr>\n",
       "      <th>6</th>\n",
       "      <td>New Super Mario Bros.</td>\n",
       "      <td>DS</td>\n",
       "      <td>2006.0</td>\n",
       "      <td>Platform</td>\n",
       "      <td>Nintendo</td>\n",
       "      <td>11.28</td>\n",
       "      <td>9.14</td>\n",
       "      <td>6.50</td>\n",
       "      <td>2.88</td>\n",
       "      <td>29.80</td>\n",
       "      <td>89.0</td>\n",
       "      <td>65.0</td>\n",
       "      <td>8.5</td>\n",
       "      <td>431.0</td>\n",
       "      <td>Nintendo</td>\n",
       "      <td>E</td>\n",
       "    </tr>\n",
       "    <tr>\n",
       "      <th>7</th>\n",
       "      <td>Wii Play</td>\n",
       "      <td>Wii</td>\n",
       "      <td>2006.0</td>\n",
       "      <td>Misc</td>\n",
       "      <td>Nintendo</td>\n",
       "      <td>13.96</td>\n",
       "      <td>9.18</td>\n",
       "      <td>2.93</td>\n",
       "      <td>2.84</td>\n",
       "      <td>28.92</td>\n",
       "      <td>58.0</td>\n",
       "      <td>41.0</td>\n",
       "      <td>6.6</td>\n",
       "      <td>129.0</td>\n",
       "      <td>Nintendo</td>\n",
       "      <td>E</td>\n",
       "    </tr>\n",
       "  </tbody>\n",
       "</table>\n",
       "</div>"
      ],
      "text/plain": [
       "                    Name Platform  Year_of_Release     Genre Publisher  \\\n",
       "0             Wii Sports      Wii           2006.0    Sports  Nintendo   \n",
       "2         Mario Kart Wii      Wii           2008.0    Racing  Nintendo   \n",
       "3      Wii Sports Resort      Wii           2009.0    Sports  Nintendo   \n",
       "6  New Super Mario Bros.       DS           2006.0  Platform  Nintendo   \n",
       "7               Wii Play      Wii           2006.0      Misc  Nintendo   \n",
       "\n",
       "   NA_Sales  EU_Sales  JP_Sales  Other_Sales  Global_Sales  Critic_Score  \\\n",
       "0     41.36     28.96      3.77         8.45         82.53          76.0   \n",
       "2     15.68     12.76      3.79         3.29         35.52          82.0   \n",
       "3     15.61     10.93      3.28         2.95         32.77          80.0   \n",
       "6     11.28      9.14      6.50         2.88         29.80          89.0   \n",
       "7     13.96      9.18      2.93         2.84         28.92          58.0   \n",
       "\n",
       "   Critic_Count User_Score  User_Count Developer Rating  \n",
       "0          51.0          8       322.0  Nintendo      E  \n",
       "2          73.0        8.3       709.0  Nintendo      E  \n",
       "3          73.0          8       192.0  Nintendo      E  \n",
       "6          65.0        8.5       431.0  Nintendo      E  \n",
       "7          41.0        6.6       129.0  Nintendo      E  "
      ]
     },
     "execution_count": 8,
     "metadata": {},
     "output_type": "execute_result"
    }
   ],
   "source": [
    "removed.head()"
   ]
  },
  {
   "cell_type": "code",
   "execution_count": 9,
   "metadata": {},
   "outputs": [],
   "source": [
    "# Dropping columns that I deemed useless for the scope of this project\n",
    "to_drop = ['Critic_Count', 'Rating', 'User_Count', 'NA_Sales', 'EU_Sales', 'JP_Sales', 'Other_Sales']\n",
    "removed.drop(to_drop, axis = 1, inplace=True)"
   ]
  },
  {
   "cell_type": "code",
   "execution_count": 10,
   "metadata": {
    "scrolled": true
   },
   "outputs": [
    {
     "data": {
      "text/plain": [
       "Name               0\n",
       "Platform           0\n",
       "Year_of_Release    0\n",
       "Genre              0\n",
       "Publisher          0\n",
       "Global_Sales       0\n",
       "Critic_Score       0\n",
       "User_Score         0\n",
       "Developer          0\n",
       "dtype: int64"
      ]
     },
     "execution_count": 10,
     "metadata": {},
     "output_type": "execute_result"
    }
   ],
   "source": [
    "#A final check for any null vlaues\n",
    "removed.isnull().sum()"
   ]
  },
  {
   "cell_type": "code",
   "execution_count": 11,
   "metadata": {},
   "outputs": [
    {
     "data": {
      "text/plain": [
       "Name                object\n",
       "Platform            object\n",
       "Year_of_Release    float64\n",
       "Genre               object\n",
       "Publisher           object\n",
       "Global_Sales       float64\n",
       "Critic_Score       float64\n",
       "User_Score          object\n",
       "Developer           object\n",
       "dtype: object"
      ]
     },
     "execution_count": 11,
     "metadata": {},
     "output_type": "execute_result"
    }
   ],
   "source": [
    "# I find that the User_Score column is of object datatype but I want it to be in float datatype\n",
    "removed.dtypes"
   ]
  },
  {
   "cell_type": "code",
   "execution_count": 12,
   "metadata": {
    "scrolled": true
   },
   "outputs": [],
   "source": [
    "#changing the datatype of the User_Score column\n",
    "removed['User_Score'] = removed['User_Score'].astype(str).astype(float)"
   ]
  },
  {
   "cell_type": "code",
   "execution_count": 13,
   "metadata": {},
   "outputs": [
    {
     "data": {
      "text/plain": [
       "Name                object\n",
       "Platform            object\n",
       "Year_of_Release    float64\n",
       "Genre               object\n",
       "Publisher           object\n",
       "Global_Sales       float64\n",
       "Critic_Score       float64\n",
       "User_Score         float64\n",
       "Developer           object\n",
       "dtype: object"
      ]
     },
     "execution_count": 13,
     "metadata": {},
     "output_type": "execute_result"
    }
   ],
   "source": [
    "removed.dtypes"
   ]
  },
  {
   "cell_type": "code",
   "execution_count": 14,
   "metadata": {},
   "outputs": [
    {
     "data": {
      "text/html": [
       "<div>\n",
       "<style scoped>\n",
       "    .dataframe tbody tr th:only-of-type {\n",
       "        vertical-align: middle;\n",
       "    }\n",
       "\n",
       "    .dataframe tbody tr th {\n",
       "        vertical-align: top;\n",
       "    }\n",
       "\n",
       "    .dataframe thead th {\n",
       "        text-align: right;\n",
       "    }\n",
       "</style>\n",
       "<table border=\"1\" class=\"dataframe\">\n",
       "  <thead>\n",
       "    <tr style=\"text-align: right;\">\n",
       "      <th></th>\n",
       "      <th>Name</th>\n",
       "      <th>Platform</th>\n",
       "      <th>Year_of_Release</th>\n",
       "      <th>Genre</th>\n",
       "      <th>Publisher</th>\n",
       "      <th>Global_Sales</th>\n",
       "      <th>Critic_Score</th>\n",
       "      <th>User_Score</th>\n",
       "      <th>Developer</th>\n",
       "    </tr>\n",
       "  </thead>\n",
       "  <tbody>\n",
       "    <tr>\n",
       "      <th>0</th>\n",
       "      <td>Wii Sports</td>\n",
       "      <td>Wii</td>\n",
       "      <td>2006.0</td>\n",
       "      <td>Sports</td>\n",
       "      <td>Nintendo</td>\n",
       "      <td>82.53</td>\n",
       "      <td>76.0</td>\n",
       "      <td>8.0</td>\n",
       "      <td>Nintendo</td>\n",
       "    </tr>\n",
       "    <tr>\n",
       "      <th>2</th>\n",
       "      <td>Mario Kart Wii</td>\n",
       "      <td>Wii</td>\n",
       "      <td>2008.0</td>\n",
       "      <td>Racing</td>\n",
       "      <td>Nintendo</td>\n",
       "      <td>35.52</td>\n",
       "      <td>82.0</td>\n",
       "      <td>8.3</td>\n",
       "      <td>Nintendo</td>\n",
       "    </tr>\n",
       "    <tr>\n",
       "      <th>3</th>\n",
       "      <td>Wii Sports Resort</td>\n",
       "      <td>Wii</td>\n",
       "      <td>2009.0</td>\n",
       "      <td>Sports</td>\n",
       "      <td>Nintendo</td>\n",
       "      <td>32.77</td>\n",
       "      <td>80.0</td>\n",
       "      <td>8.0</td>\n",
       "      <td>Nintendo</td>\n",
       "    </tr>\n",
       "    <tr>\n",
       "      <th>6</th>\n",
       "      <td>New Super Mario Bros.</td>\n",
       "      <td>DS</td>\n",
       "      <td>2006.0</td>\n",
       "      <td>Platform</td>\n",
       "      <td>Nintendo</td>\n",
       "      <td>29.80</td>\n",
       "      <td>89.0</td>\n",
       "      <td>8.5</td>\n",
       "      <td>Nintendo</td>\n",
       "    </tr>\n",
       "    <tr>\n",
       "      <th>7</th>\n",
       "      <td>Wii Play</td>\n",
       "      <td>Wii</td>\n",
       "      <td>2006.0</td>\n",
       "      <td>Misc</td>\n",
       "      <td>Nintendo</td>\n",
       "      <td>28.92</td>\n",
       "      <td>58.0</td>\n",
       "      <td>6.6</td>\n",
       "      <td>Nintendo</td>\n",
       "    </tr>\n",
       "    <tr>\n",
       "      <th>8</th>\n",
       "      <td>New Super Mario Bros. Wii</td>\n",
       "      <td>Wii</td>\n",
       "      <td>2009.0</td>\n",
       "      <td>Platform</td>\n",
       "      <td>Nintendo</td>\n",
       "      <td>28.32</td>\n",
       "      <td>87.0</td>\n",
       "      <td>8.4</td>\n",
       "      <td>Nintendo</td>\n",
       "    </tr>\n",
       "    <tr>\n",
       "      <th>11</th>\n",
       "      <td>Mario Kart DS</td>\n",
       "      <td>DS</td>\n",
       "      <td>2005.0</td>\n",
       "      <td>Racing</td>\n",
       "      <td>Nintendo</td>\n",
       "      <td>23.21</td>\n",
       "      <td>91.0</td>\n",
       "      <td>8.6</td>\n",
       "      <td>Nintendo</td>\n",
       "    </tr>\n",
       "    <tr>\n",
       "      <th>13</th>\n",
       "      <td>Wii Fit</td>\n",
       "      <td>Wii</td>\n",
       "      <td>2007.0</td>\n",
       "      <td>Sports</td>\n",
       "      <td>Nintendo</td>\n",
       "      <td>22.70</td>\n",
       "      <td>80.0</td>\n",
       "      <td>7.7</td>\n",
       "      <td>Nintendo</td>\n",
       "    </tr>\n",
       "    <tr>\n",
       "      <th>14</th>\n",
       "      <td>Kinect Adventures!</td>\n",
       "      <td>X360</td>\n",
       "      <td>2010.0</td>\n",
       "      <td>Misc</td>\n",
       "      <td>Microsoft Game Studios</td>\n",
       "      <td>21.81</td>\n",
       "      <td>61.0</td>\n",
       "      <td>6.3</td>\n",
       "      <td>Good Science Studio</td>\n",
       "    </tr>\n",
       "    <tr>\n",
       "      <th>15</th>\n",
       "      <td>Wii Fit Plus</td>\n",
       "      <td>Wii</td>\n",
       "      <td>2009.0</td>\n",
       "      <td>Sports</td>\n",
       "      <td>Nintendo</td>\n",
       "      <td>21.79</td>\n",
       "      <td>80.0</td>\n",
       "      <td>7.4</td>\n",
       "      <td>Nintendo</td>\n",
       "    </tr>\n",
       "  </tbody>\n",
       "</table>\n",
       "</div>"
      ],
      "text/plain": [
       "                         Name Platform  Year_of_Release     Genre  \\\n",
       "0                  Wii Sports      Wii           2006.0    Sports   \n",
       "2              Mario Kart Wii      Wii           2008.0    Racing   \n",
       "3           Wii Sports Resort      Wii           2009.0    Sports   \n",
       "6       New Super Mario Bros.       DS           2006.0  Platform   \n",
       "7                    Wii Play      Wii           2006.0      Misc   \n",
       "8   New Super Mario Bros. Wii      Wii           2009.0  Platform   \n",
       "11              Mario Kart DS       DS           2005.0    Racing   \n",
       "13                    Wii Fit      Wii           2007.0    Sports   \n",
       "14         Kinect Adventures!     X360           2010.0      Misc   \n",
       "15               Wii Fit Plus      Wii           2009.0    Sports   \n",
       "\n",
       "                 Publisher  Global_Sales  Critic_Score  User_Score  \\\n",
       "0                 Nintendo         82.53          76.0         8.0   \n",
       "2                 Nintendo         35.52          82.0         8.3   \n",
       "3                 Nintendo         32.77          80.0         8.0   \n",
       "6                 Nintendo         29.80          89.0         8.5   \n",
       "7                 Nintendo         28.92          58.0         6.6   \n",
       "8                 Nintendo         28.32          87.0         8.4   \n",
       "11                Nintendo         23.21          91.0         8.6   \n",
       "13                Nintendo         22.70          80.0         7.7   \n",
       "14  Microsoft Game Studios         21.81          61.0         6.3   \n",
       "15                Nintendo         21.79          80.0         7.4   \n",
       "\n",
       "              Developer  \n",
       "0              Nintendo  \n",
       "2              Nintendo  \n",
       "3              Nintendo  \n",
       "6              Nintendo  \n",
       "7              Nintendo  \n",
       "8              Nintendo  \n",
       "11             Nintendo  \n",
       "13             Nintendo  \n",
       "14  Good Science Studio  \n",
       "15             Nintendo  "
      ]
     },
     "execution_count": 14,
     "metadata": {},
     "output_type": "execute_result"
    }
   ],
   "source": [
    "removed.head(10)"
   ]
  },
  {
   "cell_type": "code",
   "execution_count": 15,
   "metadata": {},
   "outputs": [
    {
     "data": {
      "text/plain": [
       "Int64Index([    0,     2,     3,     6,     7,     8,    11,    13,    14,\n",
       "               15,\n",
       "            ...\n",
       "            16624, 16631, 16634, 16644, 16656, 16667, 16677, 16696, 16700,\n",
       "            16706],\n",
       "           dtype='int64', length=6825)"
      ]
     },
     "execution_count": 15,
     "metadata": {},
     "output_type": "execute_result"
    }
   ],
   "source": [
    "removed.index"
   ]
  },
  {
   "cell_type": "code",
   "execution_count": 16,
   "metadata": {},
   "outputs": [],
   "source": [
    "removed.index = range(1,6826)"
   ]
  },
  {
   "cell_type": "code",
   "execution_count": 17,
   "metadata": {},
   "outputs": [],
   "source": [
    "# multiplying the values of User_Score so that the can be in the same format as that of Critic_Score\n",
    "removed['User_Score'] = removed['User_Score'].values * 10"
   ]
  },
  {
   "cell_type": "code",
   "execution_count": 18,
   "metadata": {
    "scrolled": false
   },
   "outputs": [],
   "source": [
    "# importing a database that I created by using a table from wikipedia for chechking the presence of any indie Developers\n",
    "indie = pd.read_csv(\"List_of_indie_game_developers.csv\")"
   ]
  },
  {
   "cell_type": "markdown",
   "metadata": {},
   "source": [
    "### I wanted to check for indie devs because the term success differs for indie Devs as their budgets are usually lower than that of AAA rated companies."
   ]
  },
  {
   "cell_type": "code",
   "execution_count": 19,
   "metadata": {},
   "outputs": [
    {
     "data": {
      "text/html": [
       "<div>\n",
       "<style scoped>\n",
       "    .dataframe tbody tr th:only-of-type {\n",
       "        vertical-align: middle;\n",
       "    }\n",
       "\n",
       "    .dataframe tbody tr th {\n",
       "        vertical-align: top;\n",
       "    }\n",
       "\n",
       "    .dataframe thead th {\n",
       "        text-align: right;\n",
       "    }\n",
       "</style>\n",
       "<table border=\"1\" class=\"dataframe\">\n",
       "  <thead>\n",
       "    <tr style=\"text-align: right;\">\n",
       "      <th></th>\n",
       "      <th>Developers</th>\n",
       "    </tr>\n",
       "  </thead>\n",
       "  <tbody>\n",
       "    <tr>\n",
       "      <th>0</th>\n",
       "      <td>11 bit studios</td>\n",
       "    </tr>\n",
       "    <tr>\n",
       "      <th>1</th>\n",
       "      <td>ACE Team</td>\n",
       "    </tr>\n",
       "    <tr>\n",
       "      <th>2</th>\n",
       "      <td>Akupara Games</td>\n",
       "    </tr>\n",
       "    <tr>\n",
       "      <th>3</th>\n",
       "      <td>Alec Holowka</td>\n",
       "    </tr>\n",
       "    <tr>\n",
       "      <th>4</th>\n",
       "      <td>Alientrap</td>\n",
       "    </tr>\n",
       "  </tbody>\n",
       "</table>\n",
       "</div>"
      ],
      "text/plain": [
       "       Developers\n",
       "0  11 bit studios\n",
       "1        ACE Team\n",
       "2   Akupara Games\n",
       "3    Alec Holowka\n",
       "4       Alientrap"
      ]
     },
     "execution_count": 19,
     "metadata": {},
     "output_type": "execute_result"
    }
   ],
   "source": [
    "indie.head()"
   ]
  },
  {
   "cell_type": "code",
   "execution_count": 20,
   "metadata": {},
   "outputs": [],
   "source": [
    "# Creating a column with bolean values depicting whether the developer of the specific game is an indie dev or not. Here 1 and 0 are indie dev and not indie devs res.\n",
    "check_Dev = []\n",
    "\n",
    "count = 0\n",
    "for i in removed['Developer']:\n",
    "    if i in indie.values:\n",
    "        check_Dev.append(1)\n",
    "        count += 1\n",
    "    else:\n",
    "        check_Dev.append(0)\n",
    "removed['Indie Developer or not'] = check_Dev\n",
    "\n",
    "    \n"
   ]
  },
  {
   "cell_type": "code",
   "execution_count": 21,
   "metadata": {},
   "outputs": [
    {
     "data": {
      "text/html": [
       "<div>\n",
       "<style scoped>\n",
       "    .dataframe tbody tr th:only-of-type {\n",
       "        vertical-align: middle;\n",
       "    }\n",
       "\n",
       "    .dataframe tbody tr th {\n",
       "        vertical-align: top;\n",
       "    }\n",
       "\n",
       "    .dataframe thead th {\n",
       "        text-align: right;\n",
       "    }\n",
       "</style>\n",
       "<table border=\"1\" class=\"dataframe\">\n",
       "  <thead>\n",
       "    <tr style=\"text-align: right;\">\n",
       "      <th></th>\n",
       "      <th>Name</th>\n",
       "      <th>Platform</th>\n",
       "      <th>Year_of_Release</th>\n",
       "      <th>Genre</th>\n",
       "      <th>Publisher</th>\n",
       "      <th>Global_Sales</th>\n",
       "      <th>Critic_Score</th>\n",
       "      <th>User_Score</th>\n",
       "      <th>Developer</th>\n",
       "      <th>Indie Developer or not</th>\n",
       "    </tr>\n",
       "  </thead>\n",
       "  <tbody>\n",
       "    <tr>\n",
       "      <th>6821</th>\n",
       "      <td>E.T. The Extra-Terrestrial</td>\n",
       "      <td>GBA</td>\n",
       "      <td>2001.0</td>\n",
       "      <td>Action</td>\n",
       "      <td>NewKidCo</td>\n",
       "      <td>0.01</td>\n",
       "      <td>46.0</td>\n",
       "      <td>24.0</td>\n",
       "      <td>Fluid Studios</td>\n",
       "      <td>0</td>\n",
       "    </tr>\n",
       "    <tr>\n",
       "      <th>6822</th>\n",
       "      <td>Mortal Kombat: Deadly Alliance</td>\n",
       "      <td>GBA</td>\n",
       "      <td>2002.0</td>\n",
       "      <td>Fighting</td>\n",
       "      <td>Midway Games</td>\n",
       "      <td>0.01</td>\n",
       "      <td>81.0</td>\n",
       "      <td>88.0</td>\n",
       "      <td>Criterion Games</td>\n",
       "      <td>0</td>\n",
       "    </tr>\n",
       "    <tr>\n",
       "      <th>6823</th>\n",
       "      <td>Metal Gear Solid V: Ground Zeroes</td>\n",
       "      <td>PC</td>\n",
       "      <td>2014.0</td>\n",
       "      <td>Action</td>\n",
       "      <td>Konami Digital Entertainment</td>\n",
       "      <td>0.01</td>\n",
       "      <td>80.0</td>\n",
       "      <td>76.0</td>\n",
       "      <td>Kojima Productions</td>\n",
       "      <td>0</td>\n",
       "    </tr>\n",
       "    <tr>\n",
       "      <th>6824</th>\n",
       "      <td>Breach</td>\n",
       "      <td>PC</td>\n",
       "      <td>2011.0</td>\n",
       "      <td>Shooter</td>\n",
       "      <td>Destineer</td>\n",
       "      <td>0.01</td>\n",
       "      <td>61.0</td>\n",
       "      <td>58.0</td>\n",
       "      <td>Atomic Games</td>\n",
       "      <td>0</td>\n",
       "    </tr>\n",
       "    <tr>\n",
       "      <th>6825</th>\n",
       "      <td>STORM: Frontline Nation</td>\n",
       "      <td>PC</td>\n",
       "      <td>2011.0</td>\n",
       "      <td>Strategy</td>\n",
       "      <td>Unknown</td>\n",
       "      <td>0.01</td>\n",
       "      <td>60.0</td>\n",
       "      <td>72.0</td>\n",
       "      <td>SimBin</td>\n",
       "      <td>0</td>\n",
       "    </tr>\n",
       "  </tbody>\n",
       "</table>\n",
       "</div>"
      ],
      "text/plain": [
       "                                   Name Platform  Year_of_Release     Genre  \\\n",
       "6821         E.T. The Extra-Terrestrial      GBA           2001.0    Action   \n",
       "6822     Mortal Kombat: Deadly Alliance      GBA           2002.0  Fighting   \n",
       "6823  Metal Gear Solid V: Ground Zeroes       PC           2014.0    Action   \n",
       "6824                             Breach       PC           2011.0   Shooter   \n",
       "6825            STORM: Frontline Nation       PC           2011.0  Strategy   \n",
       "\n",
       "                         Publisher  Global_Sales  Critic_Score  User_Score  \\\n",
       "6821                      NewKidCo          0.01          46.0        24.0   \n",
       "6822                  Midway Games          0.01          81.0        88.0   \n",
       "6823  Konami Digital Entertainment          0.01          80.0        76.0   \n",
       "6824                     Destineer          0.01          61.0        58.0   \n",
       "6825                       Unknown          0.01          60.0        72.0   \n",
       "\n",
       "               Developer  Indie Developer or not  \n",
       "6821       Fluid Studios                       0  \n",
       "6822     Criterion Games                       0  \n",
       "6823  Kojima Productions                       0  \n",
       "6824        Atomic Games                       0  \n",
       "6825              SimBin                       0  "
      ]
     },
     "execution_count": 21,
     "metadata": {},
     "output_type": "execute_result"
    }
   ],
   "source": [
    "removed.tail()"
   ]
  },
  {
   "cell_type": "code",
   "execution_count": 22,
   "metadata": {
    "scrolled": true
   },
   "outputs": [
    {
     "data": {
      "text/html": [
       "<div>\n",
       "<style scoped>\n",
       "    .dataframe tbody tr th:only-of-type {\n",
       "        vertical-align: middle;\n",
       "    }\n",
       "\n",
       "    .dataframe tbody tr th {\n",
       "        vertical-align: top;\n",
       "    }\n",
       "\n",
       "    .dataframe thead th {\n",
       "        text-align: right;\n",
       "    }\n",
       "</style>\n",
       "<table border=\"1\" class=\"dataframe\">\n",
       "  <thead>\n",
       "    <tr style=\"text-align: right;\">\n",
       "      <th></th>\n",
       "      <th>Name</th>\n",
       "      <th>Platform</th>\n",
       "      <th>Year_of_Release</th>\n",
       "      <th>Genre</th>\n",
       "      <th>Publisher</th>\n",
       "      <th>Global_Sales</th>\n",
       "      <th>Critic_Score</th>\n",
       "      <th>User_Score</th>\n",
       "      <th>Developer</th>\n",
       "      <th>Indie Developer or not</th>\n",
       "    </tr>\n",
       "  </thead>\n",
       "  <tbody>\n",
       "    <tr>\n",
       "      <th>6754</th>\n",
       "      <td>Serious Sam II</td>\n",
       "      <td>PC</td>\n",
       "      <td>2005.0</td>\n",
       "      <td>Shooter</td>\n",
       "      <td>Take-Two Interactive</td>\n",
       "      <td>0.01</td>\n",
       "      <td>74.0</td>\n",
       "      <td>70.0</td>\n",
       "      <td>Croteam</td>\n",
       "      <td>1</td>\n",
       "    </tr>\n",
       "    <tr>\n",
       "      <th>6762</th>\n",
       "      <td>Sherlock Holmes: The Devil's Daughter</td>\n",
       "      <td>PC</td>\n",
       "      <td>2016.0</td>\n",
       "      <td>Adventure</td>\n",
       "      <td>Bigben Interactive</td>\n",
       "      <td>0.01</td>\n",
       "      <td>65.0</td>\n",
       "      <td>73.0</td>\n",
       "      <td>Frogwares</td>\n",
       "      <td>1</td>\n",
       "    </tr>\n",
       "    <tr>\n",
       "      <th>6778</th>\n",
       "      <td>Goat Simulator</td>\n",
       "      <td>XOne</td>\n",
       "      <td>2016.0</td>\n",
       "      <td>Simulation</td>\n",
       "      <td>Koch Media</td>\n",
       "      <td>0.01</td>\n",
       "      <td>53.0</td>\n",
       "      <td>63.0</td>\n",
       "      <td>Coffee Stain Studios</td>\n",
       "      <td>1</td>\n",
       "    </tr>\n",
       "    <tr>\n",
       "      <th>6779</th>\n",
       "      <td>TimeShift</td>\n",
       "      <td>PC</td>\n",
       "      <td>2007.0</td>\n",
       "      <td>Shooter</td>\n",
       "      <td>Vivendi Games</td>\n",
       "      <td>0.01</td>\n",
       "      <td>71.0</td>\n",
       "      <td>76.0</td>\n",
       "      <td>Saber Interactive</td>\n",
       "      <td>1</td>\n",
       "    </tr>\n",
       "    <tr>\n",
       "      <th>6795</th>\n",
       "      <td>Sherlock Holmes: The Devil's Daughter</td>\n",
       "      <td>PS4</td>\n",
       "      <td>2016.0</td>\n",
       "      <td>Adventure</td>\n",
       "      <td>Bigben Interactive</td>\n",
       "      <td>0.01</td>\n",
       "      <td>70.0</td>\n",
       "      <td>68.0</td>\n",
       "      <td>Frogwares</td>\n",
       "      <td>1</td>\n",
       "    </tr>\n",
       "  </tbody>\n",
       "</table>\n",
       "</div>"
      ],
      "text/plain": [
       "                                       Name Platform  Year_of_Release  \\\n",
       "6754                         Serious Sam II       PC           2005.0   \n",
       "6762  Sherlock Holmes: The Devil's Daughter       PC           2016.0   \n",
       "6778                         Goat Simulator     XOne           2016.0   \n",
       "6779                              TimeShift       PC           2007.0   \n",
       "6795  Sherlock Holmes: The Devil's Daughter      PS4           2016.0   \n",
       "\n",
       "           Genre             Publisher  Global_Sales  Critic_Score  \\\n",
       "6754     Shooter  Take-Two Interactive          0.01          74.0   \n",
       "6762   Adventure    Bigben Interactive          0.01          65.0   \n",
       "6778  Simulation            Koch Media          0.01          53.0   \n",
       "6779     Shooter         Vivendi Games          0.01          71.0   \n",
       "6795   Adventure    Bigben Interactive          0.01          70.0   \n",
       "\n",
       "      User_Score             Developer  Indie Developer or not  \n",
       "6754        70.0               Croteam                       1  \n",
       "6762        73.0             Frogwares                       1  \n",
       "6778        63.0  Coffee Stain Studios                       1  \n",
       "6779        76.0     Saber Interactive                       1  \n",
       "6795        68.0             Frogwares                       1  "
      ]
     },
     "execution_count": 22,
     "metadata": {},
     "output_type": "execute_result"
    }
   ],
   "source": [
    "removed[removed['Indie Developer or not'] == 1].tail()\n"
   ]
  },
  {
   "cell_type": "code",
   "execution_count": 23,
   "metadata": {},
   "outputs": [
    {
     "data": {
      "text/plain": [
       "['Sports',\n",
       " 'Racing',\n",
       " 'Platform',\n",
       " 'Misc',\n",
       " 'Action',\n",
       " 'Puzzle',\n",
       " 'Shooter',\n",
       " 'Fighting',\n",
       " 'Simulation',\n",
       " 'Role-Playing',\n",
       " 'Adventure',\n",
       " 'Strategy']"
      ]
     },
     "execution_count": 23,
     "metadata": {},
     "output_type": "execute_result"
    }
   ],
   "source": [
    "# checking the total list of genres and evaluating which genre has the highest average global sales.\n",
    "list_of_genres = []\n",
    "for genre in removed['Genre']:\n",
    "    if genre not in list_of_genres:\n",
    "        list_of_genres.append(genre)\n",
    "    else:\n",
    "        continue\n",
    "list_of_genres\n",
    "    "
   ]
  },
  {
   "cell_type": "code",
   "execution_count": 24,
   "metadata": {},
   "outputs": [
    {
     "data": {
      "image/png": "[encoded data removed]",
      "text/plain": [
       "<Figure size 432x288 with 1 Axes>"
      ]
     },
     "metadata": {
      "needs_background": "light"
     },
     "output_type": "display_data"
    }
   ],
   "source": [
    "sns.barplot(x = removed['Genre'], y = removed['Global_Sales'] )\n",
    "plt.rc('figure', figsize = (30,5))"
   ]
  },
  {
   "cell_type": "code",
   "execution_count": 25,
   "metadata": {},
   "outputs": [
    {
     "data": {
      "text/html": [
       "<div>\n",
       "<style scoped>\n",
       "    .dataframe tbody tr th:only-of-type {\n",
       "        vertical-align: middle;\n",
       "    }\n",
       "\n",
       "    .dataframe tbody tr th {\n",
       "        vertical-align: top;\n",
       "    }\n",
       "\n",
       "    .dataframe thead th {\n",
       "        text-align: right;\n",
       "    }\n",
       "</style>\n",
       "<table border=\"1\" class=\"dataframe\">\n",
       "  <thead>\n",
       "    <tr style=\"text-align: right;\">\n",
       "      <th></th>\n",
       "      <th>Name</th>\n",
       "      <th>Platform</th>\n",
       "      <th>Year_of_Release</th>\n",
       "      <th>Genre</th>\n",
       "      <th>Publisher</th>\n",
       "      <th>Global_Sales</th>\n",
       "      <th>Critic_Score</th>\n",
       "      <th>User_Score</th>\n",
       "      <th>Developer</th>\n",
       "      <th>Indie Developer or not</th>\n",
       "    </tr>\n",
       "  </thead>\n",
       "  <tbody>\n",
       "    <tr>\n",
       "      <th>6821</th>\n",
       "      <td>E.T. The Extra-Terrestrial</td>\n",
       "      <td>GBA</td>\n",
       "      <td>2001.0</td>\n",
       "      <td>Action</td>\n",
       "      <td>NewKidCo</td>\n",
       "      <td>0.01</td>\n",
       "      <td>46.0</td>\n",
       "      <td>24.0</td>\n",
       "      <td>Fluid Studios</td>\n",
       "      <td>0</td>\n",
       "    </tr>\n",
       "    <tr>\n",
       "      <th>6822</th>\n",
       "      <td>Mortal Kombat: Deadly Alliance</td>\n",
       "      <td>GBA</td>\n",
       "      <td>2002.0</td>\n",
       "      <td>Fighting</td>\n",
       "      <td>Midway Games</td>\n",
       "      <td>0.01</td>\n",
       "      <td>81.0</td>\n",
       "      <td>88.0</td>\n",
       "      <td>Criterion Games</td>\n",
       "      <td>0</td>\n",
       "    </tr>\n",
       "    <tr>\n",
       "      <th>6823</th>\n",
       "      <td>Metal Gear Solid V: Ground Zeroes</td>\n",
       "      <td>PC</td>\n",
       "      <td>2014.0</td>\n",
       "      <td>Action</td>\n",
       "      <td>Konami Digital Entertainment</td>\n",
       "      <td>0.01</td>\n",
       "      <td>80.0</td>\n",
       "      <td>76.0</td>\n",
       "      <td>Kojima Productions</td>\n",
       "      <td>0</td>\n",
       "    </tr>\n",
       "    <tr>\n",
       "      <th>6824</th>\n",
       "      <td>Breach</td>\n",
       "      <td>PC</td>\n",
       "      <td>2011.0</td>\n",
       "      <td>Shooter</td>\n",
       "      <td>Destineer</td>\n",
       "      <td>0.01</td>\n",
       "      <td>61.0</td>\n",
       "      <td>58.0</td>\n",
       "      <td>Atomic Games</td>\n",
       "      <td>0</td>\n",
       "    </tr>\n",
       "    <tr>\n",
       "      <th>6825</th>\n",
       "      <td>STORM: Frontline Nation</td>\n",
       "      <td>PC</td>\n",
       "      <td>2011.0</td>\n",
       "      <td>Strategy</td>\n",
       "      <td>Unknown</td>\n",
       "      <td>0.01</td>\n",
       "      <td>60.0</td>\n",
       "      <td>72.0</td>\n",
       "      <td>SimBin</td>\n",
       "      <td>0</td>\n",
       "    </tr>\n",
       "  </tbody>\n",
       "</table>\n",
       "</div>"
      ],
      "text/plain": [
       "                                   Name Platform  Year_of_Release     Genre  \\\n",
       "6821         E.T. The Extra-Terrestrial      GBA           2001.0    Action   \n",
       "6822     Mortal Kombat: Deadly Alliance      GBA           2002.0  Fighting   \n",
       "6823  Metal Gear Solid V: Ground Zeroes       PC           2014.0    Action   \n",
       "6824                             Breach       PC           2011.0   Shooter   \n",
       "6825            STORM: Frontline Nation       PC           2011.0  Strategy   \n",
       "\n",
       "                         Publisher  Global_Sales  Critic_Score  User_Score  \\\n",
       "6821                      NewKidCo          0.01          46.0        24.0   \n",
       "6822                  Midway Games          0.01          81.0        88.0   \n",
       "6823  Konami Digital Entertainment          0.01          80.0        76.0   \n",
       "6824                     Destineer          0.01          61.0        58.0   \n",
       "6825                       Unknown          0.01          60.0        72.0   \n",
       "\n",
       "               Developer  Indie Developer or not  \n",
       "6821       Fluid Studios                       0  \n",
       "6822     Criterion Games                       0  \n",
       "6823  Kojima Productions                       0  \n",
       "6824        Atomic Games                       0  \n",
       "6825              SimBin                       0  "
      ]
     },
     "execution_count": 25,
     "metadata": {},
     "output_type": "execute_result"
    }
   ],
   "source": [
    "removed.tail()"
   ]
  },
  {
   "cell_type": "code",
   "execution_count": 26,
   "metadata": {
    "scrolled": true
   },
   "outputs": [
    {
     "data": {
      "text/plain": [
       "6825"
      ]
     },
     "execution_count": 26,
     "metadata": {},
     "output_type": "execute_result"
    }
   ],
   "source": [
    "# defining success for a game\n",
    "# For this project I thought the AAA companies selling more than 1 million units will be considered as a success and for indie devs selling more than 50k units is considered as a success\n",
    "success = []\n",
    "for x in range(6825):\n",
    "    if removed['Indie Developer or not'].iloc[x] == 1:\n",
    "        if removed['Global_Sales'].iloc[x] >= 0.05:\n",
    "            success.append(1)\n",
    "        else:\n",
    "            success.append(0)\n",
    "    elif removed['Global_Sales'].iloc[x] >= 1:\n",
    "        success.append(1)\n",
    "    else:\n",
    "        success.append(0)\n",
    "len(success)"
   ]
  },
  {
   "cell_type": "code",
   "execution_count": 27,
   "metadata": {},
   "outputs": [],
   "source": [
    "removed['Success_or_Failure'] = success"
   ]
  },
  {
   "cell_type": "code",
   "execution_count": 28,
   "metadata": {},
   "outputs": [
    {
     "data": {
      "text/html": [
       "<div>\n",
       "<style scoped>\n",
       "    .dataframe tbody tr th:only-of-type {\n",
       "        vertical-align: middle;\n",
       "    }\n",
       "\n",
       "    .dataframe tbody tr th {\n",
       "        vertical-align: top;\n",
       "    }\n",
       "\n",
       "    .dataframe thead th {\n",
       "        text-align: right;\n",
       "    }\n",
       "</style>\n",
       "<table border=\"1\" class=\"dataframe\">\n",
       "  <thead>\n",
       "    <tr style=\"text-align: right;\">\n",
       "      <th></th>\n",
       "      <th>Name</th>\n",
       "      <th>Platform</th>\n",
       "      <th>Year_of_Release</th>\n",
       "      <th>Genre</th>\n",
       "      <th>Publisher</th>\n",
       "      <th>Global_Sales</th>\n",
       "      <th>Critic_Score</th>\n",
       "      <th>User_Score</th>\n",
       "      <th>Developer</th>\n",
       "      <th>Indie Developer or not</th>\n",
       "      <th>Success_or_Failure</th>\n",
       "    </tr>\n",
       "  </thead>\n",
       "  <tbody>\n",
       "    <tr>\n",
       "      <th>1</th>\n",
       "      <td>Wii Sports</td>\n",
       "      <td>Wii</td>\n",
       "      <td>2006.0</td>\n",
       "      <td>Sports</td>\n",
       "      <td>Nintendo</td>\n",
       "      <td>82.53</td>\n",
       "      <td>76.0</td>\n",
       "      <td>80.0</td>\n",
       "      <td>Nintendo</td>\n",
       "      <td>0</td>\n",
       "      <td>1</td>\n",
       "    </tr>\n",
       "    <tr>\n",
       "      <th>2</th>\n",
       "      <td>Mario Kart Wii</td>\n",
       "      <td>Wii</td>\n",
       "      <td>2008.0</td>\n",
       "      <td>Racing</td>\n",
       "      <td>Nintendo</td>\n",
       "      <td>35.52</td>\n",
       "      <td>82.0</td>\n",
       "      <td>83.0</td>\n",
       "      <td>Nintendo</td>\n",
       "      <td>0</td>\n",
       "      <td>1</td>\n",
       "    </tr>\n",
       "    <tr>\n",
       "      <th>3</th>\n",
       "      <td>Wii Sports Resort</td>\n",
       "      <td>Wii</td>\n",
       "      <td>2009.0</td>\n",
       "      <td>Sports</td>\n",
       "      <td>Nintendo</td>\n",
       "      <td>32.77</td>\n",
       "      <td>80.0</td>\n",
       "      <td>80.0</td>\n",
       "      <td>Nintendo</td>\n",
       "      <td>0</td>\n",
       "      <td>1</td>\n",
       "    </tr>\n",
       "    <tr>\n",
       "      <th>4</th>\n",
       "      <td>New Super Mario Bros.</td>\n",
       "      <td>DS</td>\n",
       "      <td>2006.0</td>\n",
       "      <td>Platform</td>\n",
       "      <td>Nintendo</td>\n",
       "      <td>29.80</td>\n",
       "      <td>89.0</td>\n",
       "      <td>85.0</td>\n",
       "      <td>Nintendo</td>\n",
       "      <td>0</td>\n",
       "      <td>1</td>\n",
       "    </tr>\n",
       "    <tr>\n",
       "      <th>5</th>\n",
       "      <td>Wii Play</td>\n",
       "      <td>Wii</td>\n",
       "      <td>2006.0</td>\n",
       "      <td>Misc</td>\n",
       "      <td>Nintendo</td>\n",
       "      <td>28.92</td>\n",
       "      <td>58.0</td>\n",
       "      <td>66.0</td>\n",
       "      <td>Nintendo</td>\n",
       "      <td>0</td>\n",
       "      <td>1</td>\n",
       "    </tr>\n",
       "    <tr>\n",
       "      <th>...</th>\n",
       "      <td>...</td>\n",
       "      <td>...</td>\n",
       "      <td>...</td>\n",
       "      <td>...</td>\n",
       "      <td>...</td>\n",
       "      <td>...</td>\n",
       "      <td>...</td>\n",
       "      <td>...</td>\n",
       "      <td>...</td>\n",
       "      <td>...</td>\n",
       "      <td>...</td>\n",
       "    </tr>\n",
       "    <tr>\n",
       "      <th>6821</th>\n",
       "      <td>E.T. The Extra-Terrestrial</td>\n",
       "      <td>GBA</td>\n",
       "      <td>2001.0</td>\n",
       "      <td>Action</td>\n",
       "      <td>NewKidCo</td>\n",
       "      <td>0.01</td>\n",
       "      <td>46.0</td>\n",
       "      <td>24.0</td>\n",
       "      <td>Fluid Studios</td>\n",
       "      <td>0</td>\n",
       "      <td>0</td>\n",
       "    </tr>\n",
       "    <tr>\n",
       "      <th>6822</th>\n",
       "      <td>Mortal Kombat: Deadly Alliance</td>\n",
       "      <td>GBA</td>\n",
       "      <td>2002.0</td>\n",
       "      <td>Fighting</td>\n",
       "      <td>Midway Games</td>\n",
       "      <td>0.01</td>\n",
       "      <td>81.0</td>\n",
       "      <td>88.0</td>\n",
       "      <td>Criterion Games</td>\n",
       "      <td>0</td>\n",
       "      <td>0</td>\n",
       "    </tr>\n",
       "    <tr>\n",
       "      <th>6823</th>\n",
       "      <td>Metal Gear Solid V: Ground Zeroes</td>\n",
       "      <td>PC</td>\n",
       "      <td>2014.0</td>\n",
       "      <td>Action</td>\n",
       "      <td>Konami Digital Entertainment</td>\n",
       "      <td>0.01</td>\n",
       "      <td>80.0</td>\n",
       "      <td>76.0</td>\n",
       "      <td>Kojima Productions</td>\n",
       "      <td>0</td>\n",
       "      <td>0</td>\n",
       "    </tr>\n",
       "    <tr>\n",
       "      <th>6824</th>\n",
       "      <td>Breach</td>\n",
       "      <td>PC</td>\n",
       "      <td>2011.0</td>\n",
       "      <td>Shooter</td>\n",
       "      <td>Destineer</td>\n",
       "      <td>0.01</td>\n",
       "      <td>61.0</td>\n",
       "      <td>58.0</td>\n",
       "      <td>Atomic Games</td>\n",
       "      <td>0</td>\n",
       "      <td>0</td>\n",
       "    </tr>\n",
       "    <tr>\n",
       "      <th>6825</th>\n",
       "      <td>STORM: Frontline Nation</td>\n",
       "      <td>PC</td>\n",
       "      <td>2011.0</td>\n",
       "      <td>Strategy</td>\n",
       "      <td>Unknown</td>\n",
       "      <td>0.01</td>\n",
       "      <td>60.0</td>\n",
       "      <td>72.0</td>\n",
       "      <td>SimBin</td>\n",
       "      <td>0</td>\n",
       "      <td>0</td>\n",
       "    </tr>\n",
       "  </tbody>\n",
       "</table>\n",
       "<p>6825 rows × 11 columns</p>\n",
       "</div>"
      ],
      "text/plain": [
       "                                   Name Platform  Year_of_Release     Genre  \\\n",
       "1                            Wii Sports      Wii           2006.0    Sports   \n",
       "2                        Mario Kart Wii      Wii           2008.0    Racing   \n",
       "3                     Wii Sports Resort      Wii           2009.0    Sports   \n",
       "4                 New Super Mario Bros.       DS           2006.0  Platform   \n",
       "5                              Wii Play      Wii           2006.0      Misc   \n",
       "...                                 ...      ...              ...       ...   \n",
       "6821         E.T. The Extra-Terrestrial      GBA           2001.0    Action   \n",
       "6822     Mortal Kombat: Deadly Alliance      GBA           2002.0  Fighting   \n",
       "6823  Metal Gear Solid V: Ground Zeroes       PC           2014.0    Action   \n",
       "6824                             Breach       PC           2011.0   Shooter   \n",
       "6825            STORM: Frontline Nation       PC           2011.0  Strategy   \n",
       "\n",
       "                         Publisher  Global_Sales  Critic_Score  User_Score  \\\n",
       "1                         Nintendo         82.53          76.0        80.0   \n",
       "2                         Nintendo         35.52          82.0        83.0   \n",
       "3                         Nintendo         32.77          80.0        80.0   \n",
       "4                         Nintendo         29.80          89.0        85.0   \n",
       "5                         Nintendo         28.92          58.0        66.0   \n",
       "...                            ...           ...           ...         ...   \n",
       "6821                      NewKidCo          0.01          46.0        24.0   \n",
       "6822                  Midway Games          0.01          81.0        88.0   \n",
       "6823  Konami Digital Entertainment          0.01          80.0        76.0   \n",
       "6824                     Destineer          0.01          61.0        58.0   \n",
       "6825                       Unknown          0.01          60.0        72.0   \n",
       "\n",
       "               Developer  Indie Developer or not  Success_or_Failure  \n",
       "1               Nintendo                       0                   1  \n",
       "2               Nintendo                       0                   1  \n",
       "3               Nintendo                       0                   1  \n",
       "4               Nintendo                       0                   1  \n",
       "5               Nintendo                       0                   1  \n",
       "...                  ...                     ...                 ...  \n",
       "6821       Fluid Studios                       0                   0  \n",
       "6822     Criterion Games                       0                   0  \n",
       "6823  Kojima Productions                       0                   0  \n",
       "6824        Atomic Games                       0                   0  \n",
       "6825              SimBin                       0                   0  \n",
       "\n",
       "[6825 rows x 11 columns]"
      ]
     },
     "execution_count": 28,
     "metadata": {},
     "output_type": "execute_result"
    }
   ],
   "source": [
    "removed"
   ]
  },
  {
   "cell_type": "code",
   "execution_count": 29,
   "metadata": {},
   "outputs": [],
   "source": [
    "x = removed.iloc[:,1:9]\n",
    "y = removed.iloc[:,-1] "
   ]
  },
  {
   "cell_type": "markdown",
   "metadata": {},
   "source": [
    "## Data Visualisation"
   ]
  },
  {
   "cell_type": "code",
   "execution_count": 30,
   "metadata": {},
   "outputs": [
    {
     "data": {
      "image/png": "[encoded data removed]",
      "text/plain": [
       "<Figure size 1440x1440 with 2 Axes>"
      ]
     },
     "metadata": {
      "needs_background": "light"
     },
     "output_type": "display_data"
    }
   ],
   "source": [
    "# checking correlation between the columns\n",
    "corrmat = removed.corr()\n",
    "top_corr_features = corrmat.index\n",
    "plt.figure(figsize=(20,20))\n",
    "#plot heat map\n",
    "g=sns.heatmap(removed[top_corr_features].corr(),annot=True,cmap=\"RdYlGn\")"
   ]
  },
  {
   "cell_type": "code",
   "execution_count": 31,
   "metadata": {},
   "outputs": [
    {
     "name": "stdout",
     "output_type": "stream",
     "text": [
      "          Specs        Score\n",
      "0  Global_Sales  8332.141667\n",
      "1  Critic_Score  1876.506708\n",
      "2    User_Score   297.388846\n"
     ]
    }
   ],
   "source": [
    "# finding the most influential features\n",
    "x = removed.iloc[:,5:8]\n",
    "y = removed.iloc[:,-1] \n",
    "bestfeatures = SelectKBest(score_func=chi2, k='all')\n",
    "fit = bestfeatures.fit(x,y)\n",
    "dfscores = pd.DataFrame(fit.scores_)\n",
    "dfcolumns = pd.DataFrame(x.columns)\n",
    "#concat two dataframes for better visualization \n",
    "featureScores = pd.concat([dfcolumns,dfscores],axis=1)\n",
    "featureScores.columns = ['Specs','Score']  #naming the dataframe columns\n",
    "print(featureScores.nlargest(10,'Score'))  #print 10 best features"
   ]
  },
  {
   "cell_type": "code",
   "execution_count": 32,
   "metadata": {},
   "outputs": [],
   "source": [
    "def score_group(score):\n",
    "    if score >= 90:\n",
    "        return '90-100'\n",
    "    elif score >= 80:\n",
    "        return '80-89'\n",
    "    elif score >= 70:\n",
    "        return '70-79'\n",
    "    elif score >= 60:\n",
    "        return '60-69'\n",
    "    elif score >= 50:\n",
    "        return '50-59'\n",
    "    else:\n",
    "        return '0-49'"
   ]
  },
  {
   "cell_type": "code",
   "execution_count": 33,
   "metadata": {},
   "outputs": [],
   "source": [
    "dfh = removed.dropna(subset=['Critic_Score']).reset_index(drop=True)\n",
    "dfh['Score_Group'] = dfh['Critic_Score'].apply(lambda x: score_group(x))"
   ]
  },
  {
   "cell_type": "code",
   "execution_count": 34,
   "metadata": {},
   "outputs": [],
   "source": [
    "def in_top(x):\n",
    "    if x in pack:\n",
    "        return x\n",
    "    else:\n",
    "        pass\n",
    "def width(x):\n",
    "    if x == 'Platform':\n",
    "        return 14.4\n",
    "    elif x == 'Developer':\n",
    "        return 13.2\n",
    "    elif x == 'Publisher':\n",
    "        return 11.3\n",
    "    elif x == 'Genre':\n",
    "        return 13.6\n",
    "\n",
    "def height(x):\n",
    "    if x == 'Genre':\n",
    "        return 8\n",
    "    else:\n",
    "        return 9"
   ]
  },
  {
   "cell_type": "code",
   "execution_count": 35,
   "metadata": {},
   "outputs": [
    {
     "data": {
      "image/png": "[encoded data removed]",
      "text/plain": [
       "<Figure size 979.2x576 with 2 Axes>"
      ]
     },
     "metadata": {
      "needs_background": "light"
     },
     "output_type": "display_data"
    },
    {
     "data": {
      "image/png": "[encoded data removed]",
      "text/plain": [
       "<Figure size 950.4x648 with 2 Axes>"
      ]
     },
     "metadata": {
      "needs_background": "light"
     },
     "output_type": "display_data"
    },
    {
     "data": {
      "image/png": "[encoded data removed]",
      "text/plain": [
       "<Figure size 813.6x648 with 2 Axes>"
      ]
     },
     "metadata": {
      "needs_background": "light"
     },
     "output_type": "display_data"
    },
    {
     "data": {
      "image/png": "[encoded data removed]",
      "text/plain": [
       "<Figure size 1036.8x648 with 2 Axes>"
      ]
     },
     "metadata": {
      "needs_background": "light"
     },
     "output_type": "display_data"
    }
   ],
   "source": [
    "# creating heatmaps for correlation between different columns\n",
    "cols = ['Genre', 'Developer', 'Publisher', 'Platform']\n",
    "for col in cols:\n",
    "    pack = []\n",
    "    top = dfh[['Name', col]].groupby([col]).count().sort_values('Name', ascending=False).reset_index()[:15]\n",
    "    for x in top[col]:\n",
    "        pack.append(x)\n",
    "    dfh[col] = dfh[col].apply(lambda x: in_top(x))\n",
    "    dfh_platform = dfh[[col, 'Score_Group', 'Global_Sales']].groupby([col, 'Score_Group']).median().reset_index().pivot(col, \"Score_Group\", \"Global_Sales\")\n",
    "    plt.figure(figsize=(width(col), height(col)))\n",
    "    sns.heatmap(dfh_platform, annot=True, fmt=\".2g\", linewidths=.5).set_title((' \\n'+col+' vs. critic score (by median sales) \\n'), fontsize=18)\n",
    "    plt.ylabel('', fontsize=14)\n",
    "    plt.xlabel('Score group \\n', fontsize=12)\n",
    "    pack = []"
   ]
  },
  {
   "cell_type": "code",
   "execution_count": 36,
   "metadata": {},
   "outputs": [
    {
     "data": {
      "text/plain": [
       "Name                        object\n",
       "Platform                  category\n",
       "Year_of_Release            float64\n",
       "Genre                     category\n",
       "Publisher                 category\n",
       "Global_Sales               float64\n",
       "Critic_Score               float64\n",
       "User_Score                 float64\n",
       "Developer                 category\n",
       "Indie Developer or not       int64\n",
       "Success_or_Failure           int64\n",
       "dtype: object"
      ]
     },
     "execution_count": 36,
     "metadata": {},
     "output_type": "execute_result"
    }
   ],
   "source": [
    "#I noticed that i had some object type datapoints and realized this late into the project that I wont be able to use them so I converted them to category type to use one hot encoding on them and get value that i can actually feed to a model\n",
    "cols = ['Genre', 'Developer', 'Publisher', 'Platform']\n",
    "removed[cols] = removed[cols].astype('category')\n",
    "removed.dtypes"
   ]
  },
  {
   "cell_type": "code",
   "execution_count": 37,
   "metadata": {},
   "outputs": [
    {
     "name": "stdout",
     "output_type": "stream",
     "text": [
      "[Wii, DS, X360, PS3, PS2, ..., GC, GBA, XOne, PSV, DC]\n",
      "Length: 17\n",
      "Categories (17, object): [Wii, DS, X360, PS3, ..., GBA, XOne, PSV, DC]\n",
      "[Sports, Racing, Platform, Misc, Action, ..., Fighting, Simulation, Role-Playing, Adventure, Strategy]\n",
      "Length: 12\n",
      "Categories (12, object): [Sports, Racing, Platform, Misc, ..., Simulation, Role-Playing, Adventure, Strategy]\n",
      "[Nintendo, Microsoft Game Studios, Take-Two Interactive, Sony Computer Entertainment, Activision, ..., Lighthouse Interactive, CDV Software Entertainment, Encore, Blue Byte, NewKidCo]\n",
      "Length: 262\n",
      "Categories (262, object): [Nintendo, Microsoft Game Studios, Take-Two Interactive, Sony Computer Entertainment, ..., CDV Software Entertainment, Encore, Blue Byte, NewKidCo]\n",
      "[Nintendo, Good Science Studio, Rockstar North, Polyphony Digital, Infinity Ward, Sledgehammer Games, ..., High Moon Studios, Mercenary Technologies, Infinite Dreams, Paragon 5, Big Red Software, Fluid Studios, Atomic Games]\n",
      "Length: 1289\n",
      "Categories (1289, object): [Nintendo, Good Science Studio, Rockstar North, Polyphony Digital, ..., Infinite Dreams, Paragon 5, Big Red Software, Fluid Studios, Atomic Games]\n"
     ]
    }
   ],
   "source": [
    "print(removed['Platform'].unique())\n",
    "print(removed['Genre'].unique())\n",
    "print(removed['Publisher'].unique())\n",
    "print(removed['Developer'].unique())"
   ]
  },
  {
   "cell_type": "code",
   "execution_count": 38,
   "metadata": {},
   "outputs": [
    {
     "data": {
      "text/html": [
       "<div>\n",
       "<style scoped>\n",
       "    .dataframe tbody tr th:only-of-type {\n",
       "        vertical-align: middle;\n",
       "    }\n",
       "\n",
       "    .dataframe tbody tr th {\n",
       "        vertical-align: top;\n",
       "    }\n",
       "\n",
       "    .dataframe thead th {\n",
       "        text-align: right;\n",
       "    }\n",
       "</style>\n",
       "<table border=\"1\" class=\"dataframe\">\n",
       "  <thead>\n",
       "    <tr style=\"text-align: right;\">\n",
       "      <th></th>\n",
       "      <th>Name</th>\n",
       "      <th>Platform</th>\n",
       "      <th>Year_of_Release</th>\n",
       "      <th>Genre</th>\n",
       "      <th>Publisher</th>\n",
       "      <th>Global_Sales</th>\n",
       "      <th>Critic_Score</th>\n",
       "      <th>User_Score</th>\n",
       "      <th>Developer</th>\n",
       "      <th>Indie Developer or not</th>\n",
       "      <th>Success_or_Failure</th>\n",
       "      <th>Platform_Cat</th>\n",
       "      <th>Genre_Cat</th>\n",
       "      <th>Publisher_Cat</th>\n",
       "      <th>Developer_Cat</th>\n",
       "    </tr>\n",
       "  </thead>\n",
       "  <tbody>\n",
       "    <tr>\n",
       "      <th>1</th>\n",
       "      <td>Wii Sports</td>\n",
       "      <td>Wii</td>\n",
       "      <td>2006.0</td>\n",
       "      <td>Sports</td>\n",
       "      <td>Nintendo</td>\n",
       "      <td>82.53</td>\n",
       "      <td>76.0</td>\n",
       "      <td>80.0</td>\n",
       "      <td>Nintendo</td>\n",
       "      <td>0</td>\n",
       "      <td>1</td>\n",
       "      <td>12</td>\n",
       "      <td>10</td>\n",
       "      <td>160</td>\n",
       "      <td>771</td>\n",
       "    </tr>\n",
       "    <tr>\n",
       "      <th>2</th>\n",
       "      <td>Mario Kart Wii</td>\n",
       "      <td>Wii</td>\n",
       "      <td>2008.0</td>\n",
       "      <td>Racing</td>\n",
       "      <td>Nintendo</td>\n",
       "      <td>35.52</td>\n",
       "      <td>82.0</td>\n",
       "      <td>83.0</td>\n",
       "      <td>Nintendo</td>\n",
       "      <td>0</td>\n",
       "      <td>1</td>\n",
       "      <td>12</td>\n",
       "      <td>6</td>\n",
       "      <td>160</td>\n",
       "      <td>771</td>\n",
       "    </tr>\n",
       "    <tr>\n",
       "      <th>3</th>\n",
       "      <td>Wii Sports Resort</td>\n",
       "      <td>Wii</td>\n",
       "      <td>2009.0</td>\n",
       "      <td>Sports</td>\n",
       "      <td>Nintendo</td>\n",
       "      <td>32.77</td>\n",
       "      <td>80.0</td>\n",
       "      <td>80.0</td>\n",
       "      <td>Nintendo</td>\n",
       "      <td>0</td>\n",
       "      <td>1</td>\n",
       "      <td>12</td>\n",
       "      <td>10</td>\n",
       "      <td>160</td>\n",
       "      <td>771</td>\n",
       "    </tr>\n",
       "    <tr>\n",
       "      <th>4</th>\n",
       "      <td>New Super Mario Bros.</td>\n",
       "      <td>DS</td>\n",
       "      <td>2006.0</td>\n",
       "      <td>Platform</td>\n",
       "      <td>Nintendo</td>\n",
       "      <td>29.80</td>\n",
       "      <td>89.0</td>\n",
       "      <td>85.0</td>\n",
       "      <td>Nintendo</td>\n",
       "      <td>0</td>\n",
       "      <td>1</td>\n",
       "      <td>2</td>\n",
       "      <td>4</td>\n",
       "      <td>160</td>\n",
       "      <td>771</td>\n",
       "    </tr>\n",
       "    <tr>\n",
       "      <th>5</th>\n",
       "      <td>Wii Play</td>\n",
       "      <td>Wii</td>\n",
       "      <td>2006.0</td>\n",
       "      <td>Misc</td>\n",
       "      <td>Nintendo</td>\n",
       "      <td>28.92</td>\n",
       "      <td>58.0</td>\n",
       "      <td>66.0</td>\n",
       "      <td>Nintendo</td>\n",
       "      <td>0</td>\n",
       "      <td>1</td>\n",
       "      <td>12</td>\n",
       "      <td>3</td>\n",
       "      <td>160</td>\n",
       "      <td>771</td>\n",
       "    </tr>\n",
       "    <tr>\n",
       "      <th>...</th>\n",
       "      <td>...</td>\n",
       "      <td>...</td>\n",
       "      <td>...</td>\n",
       "      <td>...</td>\n",
       "      <td>...</td>\n",
       "      <td>...</td>\n",
       "      <td>...</td>\n",
       "      <td>...</td>\n",
       "      <td>...</td>\n",
       "      <td>...</td>\n",
       "      <td>...</td>\n",
       "      <td>...</td>\n",
       "      <td>...</td>\n",
       "      <td>...</td>\n",
       "      <td>...</td>\n",
       "    </tr>\n",
       "    <tr>\n",
       "      <th>6821</th>\n",
       "      <td>E.T. The Extra-Terrestrial</td>\n",
       "      <td>GBA</td>\n",
       "      <td>2001.0</td>\n",
       "      <td>Action</td>\n",
       "      <td>NewKidCo</td>\n",
       "      <td>0.01</td>\n",
       "      <td>46.0</td>\n",
       "      <td>24.0</td>\n",
       "      <td>Fluid Studios</td>\n",
       "      <td>0</td>\n",
       "      <td>0</td>\n",
       "      <td>3</td>\n",
       "      <td>0</td>\n",
       "      <td>158</td>\n",
       "      <td>411</td>\n",
       "    </tr>\n",
       "    <tr>\n",
       "      <th>6822</th>\n",
       "      <td>Mortal Kombat: Deadly Alliance</td>\n",
       "      <td>GBA</td>\n",
       "      <td>2002.0</td>\n",
       "      <td>Fighting</td>\n",
       "      <td>Midway Games</td>\n",
       "      <td>0.01</td>\n",
       "      <td>81.0</td>\n",
       "      <td>88.0</td>\n",
       "      <td>Criterion Games</td>\n",
       "      <td>0</td>\n",
       "      <td>0</td>\n",
       "      <td>3</td>\n",
       "      <td>2</td>\n",
       "      <td>146</td>\n",
       "      <td>260</td>\n",
       "    </tr>\n",
       "    <tr>\n",
       "      <th>6823</th>\n",
       "      <td>Metal Gear Solid V: Ground Zeroes</td>\n",
       "      <td>PC</td>\n",
       "      <td>2014.0</td>\n",
       "      <td>Action</td>\n",
       "      <td>Konami Digital Entertainment</td>\n",
       "      <td>0.01</td>\n",
       "      <td>80.0</td>\n",
       "      <td>76.0</td>\n",
       "      <td>Kojima Productions</td>\n",
       "      <td>0</td>\n",
       "      <td>0</td>\n",
       "      <td>5</td>\n",
       "      <td>0</td>\n",
       "      <td>123</td>\n",
       "      <td>617</td>\n",
       "    </tr>\n",
       "    <tr>\n",
       "      <th>6824</th>\n",
       "      <td>Breach</td>\n",
       "      <td>PC</td>\n",
       "      <td>2011.0</td>\n",
       "      <td>Shooter</td>\n",
       "      <td>Destineer</td>\n",
       "      <td>0.01</td>\n",
       "      <td>61.0</td>\n",
       "      <td>58.0</td>\n",
       "      <td>Atomic Games</td>\n",
       "      <td>0</td>\n",
       "      <td>0</td>\n",
       "      <td>5</td>\n",
       "      <td>8</td>\n",
       "      <td>53</td>\n",
       "      <td>99</td>\n",
       "    </tr>\n",
       "    <tr>\n",
       "      <th>6825</th>\n",
       "      <td>STORM: Frontline Nation</td>\n",
       "      <td>PC</td>\n",
       "      <td>2011.0</td>\n",
       "      <td>Strategy</td>\n",
       "      <td>Unknown</td>\n",
       "      <td>0.01</td>\n",
       "      <td>60.0</td>\n",
       "      <td>72.0</td>\n",
       "      <td>SimBin</td>\n",
       "      <td>0</td>\n",
       "      <td>0</td>\n",
       "      <td>5</td>\n",
       "      <td>11</td>\n",
       "      <td>240</td>\n",
       "      <td>1011</td>\n",
       "    </tr>\n",
       "  </tbody>\n",
       "</table>\n",
       "<p>6825 rows × 15 columns</p>\n",
       "</div>"
      ],
      "text/plain": [
       "                                   Name Platform  Year_of_Release     Genre  \\\n",
       "1                            Wii Sports      Wii           2006.0    Sports   \n",
       "2                        Mario Kart Wii      Wii           2008.0    Racing   \n",
       "3                     Wii Sports Resort      Wii           2009.0    Sports   \n",
       "4                 New Super Mario Bros.       DS           2006.0  Platform   \n",
       "5                              Wii Play      Wii           2006.0      Misc   \n",
       "...                                 ...      ...              ...       ...   \n",
       "6821         E.T. The Extra-Terrestrial      GBA           2001.0    Action   \n",
       "6822     Mortal Kombat: Deadly Alliance      GBA           2002.0  Fighting   \n",
       "6823  Metal Gear Solid V: Ground Zeroes       PC           2014.0    Action   \n",
       "6824                             Breach       PC           2011.0   Shooter   \n",
       "6825            STORM: Frontline Nation       PC           2011.0  Strategy   \n",
       "\n",
       "                         Publisher  Global_Sales  Critic_Score  User_Score  \\\n",
       "1                         Nintendo         82.53          76.0        80.0   \n",
       "2                         Nintendo         35.52          82.0        83.0   \n",
       "3                         Nintendo         32.77          80.0        80.0   \n",
       "4                         Nintendo         29.80          89.0        85.0   \n",
       "5                         Nintendo         28.92          58.0        66.0   \n",
       "...                            ...           ...           ...         ...   \n",
       "6821                      NewKidCo          0.01          46.0        24.0   \n",
       "6822                  Midway Games          0.01          81.0        88.0   \n",
       "6823  Konami Digital Entertainment          0.01          80.0        76.0   \n",
       "6824                     Destineer          0.01          61.0        58.0   \n",
       "6825                       Unknown          0.01          60.0        72.0   \n",
       "\n",
       "               Developer  Indie Developer or not  Success_or_Failure  \\\n",
       "1               Nintendo                       0                   1   \n",
       "2               Nintendo                       0                   1   \n",
       "3               Nintendo                       0                   1   \n",
       "4               Nintendo                       0                   1   \n",
       "5               Nintendo                       0                   1   \n",
       "...                  ...                     ...                 ...   \n",
       "6821       Fluid Studios                       0                   0   \n",
       "6822     Criterion Games                       0                   0   \n",
       "6823  Kojima Productions                       0                   0   \n",
       "6824        Atomic Games                       0                   0   \n",
       "6825              SimBin                       0                   0   \n",
       "\n",
       "      Platform_Cat  Genre_Cat  Publisher_Cat  Developer_Cat  \n",
       "1               12         10            160            771  \n",
       "2               12          6            160            771  \n",
       "3               12         10            160            771  \n",
       "4                2          4            160            771  \n",
       "5               12          3            160            771  \n",
       "...            ...        ...            ...            ...  \n",
       "6821             3          0            158            411  \n",
       "6822             3          2            146            260  \n",
       "6823             5          0            123            617  \n",
       "6824             5          8             53             99  \n",
       "6825             5         11            240           1011  \n",
       "\n",
       "[6825 rows x 15 columns]"
      ]
     },
     "execution_count": 38,
     "metadata": {},
     "output_type": "execute_result"
    }
   ],
   "source": [
    "removed['Platform_Cat'] = removed['Platform'].cat.codes\n",
    "removed['Genre_Cat'] = removed['Genre'].cat.codes\n",
    "removed['Publisher_Cat'] = removed['Publisher'].cat.codes\n",
    "removed['Developer_Cat'] = removed['Developer'].cat.codes\n",
    "removed\n"
   ]
  },
  {
   "cell_type": "code",
   "execution_count": null,
   "metadata": {},
   "outputs": [],
   "source": []
  },
  {
   "cell_type": "code",
   "execution_count": 39,
   "metadata": {},
   "outputs": [
    {
     "data": {
      "text/plain": [
       "Index(['Name', 'Year_of_Release', 'Global_Sales', 'Critic_Score', 'User_Score',\n",
       "       'Indie Developer or not', 'Success_or_Failure', 'Platform_Cat',\n",
       "       'Genre_Cat', 'Publisher_Cat',\n",
       "       ...\n",
       "       'Developer_is_h.a.n.d. Inc.', 'Developer_is_iNiS',\n",
       "       'Developer_is_id Software', 'Developer_is_id Software, Nerve Software',\n",
       "       'Developer_is_id Software, Raven Software', 'Developer_is_n-Space',\n",
       "       'Developer_is_neo Software', 'Developer_is_odenis studio',\n",
       "       'Developer_is_syn Sophia', 'Developer_is_zSlide'],\n",
       "      dtype='object', length=1591)"
      ]
     },
     "execution_count": 39,
     "metadata": {},
     "output_type": "execute_result"
    }
   ],
   "source": [
    "final = pd.get_dummies(removed, columns=[\"Platform\",\"Genre\",\"Publisher\",\"Developer\"], prefix=[\"Platform_is\",\"Genre_is\",\"Publisher_is\",\"Developer_is\"] )\n",
    "final.columns"
   ]
  },
  {
   "cell_type": "code",
   "execution_count": 40,
   "metadata": {},
   "outputs": [],
   "source": [
    "req_col = final.pop('Success_or_Failure')\n"
   ]
  },
  {
   "cell_type": "code",
   "execution_count": 41,
   "metadata": {},
   "outputs": [
    {
     "data": {
      "text/plain": [
       "Index(['Name', 'Year_of_Release', 'Global_Sales', 'Critic_Score', 'User_Score',\n",
       "       'Indie Developer or not', 'Platform_Cat', 'Genre_Cat', 'Publisher_Cat',\n",
       "       'Developer_Cat',\n",
       "       ...\n",
       "       'Developer_is_iNiS', 'Developer_is_id Software',\n",
       "       'Developer_is_id Software, Nerve Software',\n",
       "       'Developer_is_id Software, Raven Software', 'Developer_is_n-Space',\n",
       "       'Developer_is_neo Software', 'Developer_is_odenis studio',\n",
       "       'Developer_is_syn Sophia', 'Developer_is_zSlide', 'Success_or_Failure'],\n",
       "      dtype='object', length=1591)"
      ]
     },
     "execution_count": 41,
     "metadata": {},
     "output_type": "execute_result"
    }
   ],
   "source": [
    "final.insert(1590, 'Success_or_Failure', req_col)\n",
    "final.columns"
   ]
  },
  {
   "cell_type": "code",
   "execution_count": 42,
   "metadata": {},
   "outputs": [],
   "source": [
    "final.drop(['Name'],axis=1,inplace = True)"
   ]
  },
  {
   "cell_type": "code",
   "execution_count": 43,
   "metadata": {},
   "outputs": [],
   "source": [
    "drop = ['Success_or_Failure', 'Genre_Cat', 'Publisher_Cat', 'Platform_Cat', 'Developer_Cat']\n",
    "final_copy = pd.get_dummies(final)\n",
    "final2 = final_copy\n",
    "y = final['Success_or_Failure'].values\n",
    "final2 = final2.drop(drop,axis=1)\n",
    "X = final2.values"
   ]
  },
  {
   "cell_type": "markdown",
   "metadata": {},
   "source": [
    "## Model implementation and Training"
   ]
  },
  {
   "cell_type": "code",
   "execution_count": 44,
   "metadata": {},
   "outputs": [],
   "source": [
    "# importing necessary modules for model creation\n",
    "from sklearn.model_selection import train_test_split\n",
    "from sklearn import preprocessing\n",
    "from sklearn.ensemble import RandomForestClassifier\n",
    "from sklearn.calibration import CalibratedClassifierCV\n",
    "from sklearn.model_selection import GridSearchCV\n",
    "from sklearn.model_selection import StratifiedKFold\n",
    "from sklearn.feature_selection import SelectFromModel\n",
    "from sklearn.linear_model import LogisticRegression\n",
    "from sklearn.metrics import classification_report, f1_score, accuracy_score, confusion_matrix\n",
    "from sklearn import svm"
   ]
  },
  {
   "cell_type": "code",
   "execution_count": 45,
   "metadata": {},
   "outputs": [],
   "source": [
    "# Splitting the dataset 90-10 since I have a small amount of data\n",
    "Xtrain, Xtest, ytrain, ytest = train_test_split(X, y, test_size=0.10, random_state=2)\n"
   ]
  },
  {
   "cell_type": "code",
   "execution_count": 46,
   "metadata": {},
   "outputs": [
    {
     "name": "stdout",
     "output_type": "stream",
     "text": [
      "Validation accuracy:  0.8038067349926794\n"
     ]
    }
   ],
   "source": [
    "# Radndom forest Classifier\n",
    "radm = RandomForestClassifier(random_state=2).fit(Xtrain, ytrain)\n",
    "y_val_1 = radm.predict(Xtest)\n",
    "print(\"Validation accuracy: \", sum(pd.DataFrame(y_val_1).idxmax(axis=1).values\n",
    "                                   == ytest)/len(ytest))"
   ]
  },
  {
   "cell_type": "code",
   "execution_count": 47,
   "metadata": {},
   "outputs": [
    {
     "name": "stdout",
     "output_type": "stream",
     "text": [
      "Validation accuracy:  0.8038067349926794\n"
     ]
    }
   ],
   "source": [
    "#Logistic Regression\n",
    "log_reg = LogisticRegression(max_iter=5000).fit(Xtrain, ytrain)\n",
    "y_val_2 = log_reg.predict(Xtest)\n",
    "print(\"Validation accuracy: \", sum(pd.DataFrame(y_val_2).idxmax(axis=1).values\n",
    "                                   == ytest)/len(ytest))"
   ]
  },
  {
   "cell_type": "markdown",
   "metadata": {},
   "source": [
    "## Evaluation and parameter tuning"
   ]
  },
  {
   "cell_type": "code",
   "execution_count": 48,
   "metadata": {},
   "outputs": [
    {
     "name": "stdout",
     "output_type": "stream",
     "text": [
      "              precision    recall  f1-score   support\n",
      "\n",
      "           0       0.99      1.00      0.99       549\n",
      "           1       0.99      0.96      0.97       134\n",
      "\n",
      "    accuracy                           0.99       683\n",
      "   macro avg       0.99      0.98      0.98       683\n",
      "weighted avg       0.99      0.99      0.99       683\n",
      "\n"
     ]
    }
   ],
   "source": [
    "all_predictions = log_reg.predict(Xtest)\n",
    "print(classification_report(ytest, all_predictions))"
   ]
  },
  {
   "cell_type": "code",
   "execution_count": 49,
   "metadata": {},
   "outputs": [
    {
     "ename": "AttributeError",
     "evalue": "module 'seaborn' has no attribute 'plt'",
     "output_type": "error",
     "traceback": [
      "\u001b[1;31m---------------------------------------------------------------------------\u001b[0m",
      "\u001b[1;31mAttributeError\u001b[0m                            Traceback (most recent call last)",
      "\u001b[1;32m<ipython-input-49-0e94ad8cce40>\u001b[0m in \u001b[0;36m<module>\u001b[1;34m\u001b[0m\n\u001b[0;32m      1\u001b[0m \u001b[0mfig\u001b[0m\u001b[1;33m,\u001b[0m \u001b[0max\u001b[0m \u001b[1;33m=\u001b[0m \u001b[0mplt\u001b[0m\u001b[1;33m.\u001b[0m\u001b[0msubplots\u001b[0m\u001b[1;33m(\u001b[0m\u001b[0mfigsize\u001b[0m\u001b[1;33m=\u001b[0m\u001b[1;33m(\u001b[0m\u001b[1;36m3.5\u001b[0m\u001b[1;33m,\u001b[0m\u001b[1;36m2.5\u001b[0m\u001b[1;33m)\u001b[0m\u001b[1;33m)\u001b[0m\u001b[1;33m\u001b[0m\u001b[1;33m\u001b[0m\u001b[0m\n\u001b[0;32m      2\u001b[0m \u001b[0msns\u001b[0m\u001b[1;33m.\u001b[0m\u001b[0mheatmap\u001b[0m\u001b[1;33m(\u001b[0m\u001b[0mconfusion_matrix\u001b[0m\u001b[1;33m(\u001b[0m\u001b[0mytest\u001b[0m\u001b[1;33m,\u001b[0m \u001b[0mall_predictions\u001b[0m\u001b[1;33m)\u001b[0m\u001b[1;33m,\u001b[0m \u001b[0mannot\u001b[0m\u001b[1;33m=\u001b[0m\u001b[1;32mTrue\u001b[0m\u001b[1;33m,\u001b[0m \u001b[0mlinewidths\u001b[0m\u001b[1;33m=\u001b[0m\u001b[1;36m.5\u001b[0m\u001b[1;33m,\u001b[0m \u001b[0max\u001b[0m\u001b[1;33m=\u001b[0m\u001b[0max\u001b[0m\u001b[1;33m,\u001b[0m \u001b[0mfmt\u001b[0m\u001b[1;33m=\u001b[0m\u001b[1;34m\"d\"\u001b[0m\u001b[1;33m)\u001b[0m\u001b[1;33m.\u001b[0m\u001b[0mset\u001b[0m\u001b[1;33m(\u001b[0m\u001b[0mxlabel\u001b[0m\u001b[1;33m=\u001b[0m\u001b[1;34m'Predicted Value'\u001b[0m\u001b[1;33m,\u001b[0m \u001b[0mylabel\u001b[0m\u001b[1;33m=\u001b[0m\u001b[1;34m'Expected Value'\u001b[0m\u001b[1;33m)\u001b[0m\u001b[1;33m\u001b[0m\u001b[1;33m\u001b[0m\u001b[0m\n\u001b[1;32m----> 3\u001b[1;33m \u001b[0msns\u001b[0m\u001b[1;33m.\u001b[0m\u001b[0mplt\u001b[0m\u001b[1;33m.\u001b[0m\u001b[0mtitle\u001b[0m\u001b[1;33m(\u001b[0m\u001b[1;34m'Training Set Confusion Matrix'\u001b[0m\u001b[1;33m)\u001b[0m\u001b[1;33m\u001b[0m\u001b[1;33m\u001b[0m\u001b[0m\n\u001b[0m",
      "\u001b[1;31mAttributeError\u001b[0m: module 'seaborn' has no attribute 'plt'"
     ]
    },
    {
     "data": {
      "image/png": "[encoded data removed]",
      "text/plain": [
       "<Figure size 252x180 with 2 Axes>"
      ]
     },
     "metadata": {
      "needs_background": "light"
     },
     "output_type": "display_data"
    }
   ],
   "source": [
    "fig, ax = plt.subplots(figsize=(3.5,2.5))\n",
    "sns.heatmap(confusion_matrix(ytest, all_predictions), annot=True, linewidths=.5, ax=ax, fmt=\"d\").set(xlabel='Predicted Value', ylabel='Expected Value')\n",
    "sns.plt.title('Training Set Confusion Matrix')"
   ]
  },
  {
   "cell_type": "markdown",
   "metadata": {},
   "source": [
    "## Conclusion\n",
    "### So both RFC and LR gave the same prediction accuracy of ≈80% which was my goal, But intially it was at 76% percent before I tuned my algorithm. I increased the training dataset and increased the max_iter to 5000 from its orginal 100 in logistic regression which gave me the current accuracy. I wouldn't say that I'm satisfied but I'm happy that I did something."
   ]
  }
 ],
 "metadata": {
  "kernelspec": {
   "display_name": "project1",
   "language": "python",
   "name": "project1"
  },
  "language_info": {
   "codemirror_mode": {
    "name": "ipython",
    "version": 3
   },
   "file_extension": ".py",
   "mimetype": "text/x-python",
   "name": "python",
   "nbconvert_exporter": "python",
   "pygments_lexer": "ipython3",
   "version": "3.8.3"
  }
 },
 "nbformat": 4,
 "nbformat_minor": 2
}
