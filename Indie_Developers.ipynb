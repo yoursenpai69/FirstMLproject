{
 "cells": [
  {
   "cell_type": "code",
   "execution_count": 1,
   "metadata": {},
   "outputs": [],
   "source": [
    "import requests\n",
    "from bs4 import BeautifulSoup\n",
    "import pandas as pd\n",
    "\n",
    "# Use SHIFT+TAB keys to popup inplace code help\n",
    "%config IPCompleter.greedy = True\n",
    "\n",
    "# Output multiple statements from one input cell\n",
    "from IPython.core.interactiveshell import InteractiveShell\n",
    "InteractiveShell.ast_node_interactivity = \"all\""
   ]
  },
  {
   "cell_type": "code",
   "execution_count": 8,
   "metadata": {},
   "outputs": [],
   "source": [
    "table_from_top = 2\n",
    "wikipedia_page = 'List_of_indie_game_developers'\n",
    "trace = False"
   ]
  },
  {
   "cell_type": "code",
   "execution_count": 9,
   "metadata": {},
   "outputs": [],
   "source": [
    "wikipedia_url = 'https://en.wikipedia.org/wiki/{}'.format(wikipedia_page)\n",
    "page = requests.get(wikipedia_url)\n",
    "soup = BeautifulSoup(page.content, 'lxml')\n",
    "tables = soup.find_all('table', {'class': 'wikitable'})\n",
    "table = tables[table_from_top - 1]"
   ]
  },
  {
   "cell_type": "code",
   "execution_count": 10,
   "metadata": {},
   "outputs": [
    {
     "data": {
      "text/plain": [
       "'Developer'"
      ]
     },
     "execution_count": 10,
     "metadata": {},
     "output_type": "execute_result"
    },
    {
     "data": {
      "text/plain": [
       "'City'"
      ]
     },
     "execution_count": 10,
     "metadata": {},
     "output_type": "execute_result"
    },
    {
     "data": {
      "text/plain": [
       "'Autonomous area '"
      ]
     },
     "execution_count": 10,
     "metadata": {},
     "output_type": "execute_result"
    },
    {
     "data": {
      "text/plain": [
       "'Country'"
      ]
     },
     "execution_count": 10,
     "metadata": {},
     "output_type": "execute_result"
    },
    {
     "data": {
      "text/plain": [
       "'Notable games'"
      ]
     },
     "execution_count": 10,
     "metadata": {},
     "output_type": "execute_result"
    },
    {
     "data": {
      "text/plain": [
       "'Notes'"
      ]
     },
     "execution_count": 10,
     "metadata": {},
     "output_type": "execute_result"
    }
   ],
   "source": [
    "feature_names = []\n",
    "\n",
    "header_row = table.find('tr')\n",
    "for header in header_row.find_all('th'):\n",
    "    feature_name = ' '.join(header.find_all(text=True))\n",
    "    feature_name.replace('\\n', '')\n",
    "    feature_names.append(feature_name)"
   ]
  },
  {
   "cell_type": "code",
   "execution_count": 11,
   "metadata": {},
   "outputs": [
    {
     "data": {
      "text/plain": [
       "['Developer\\n',\n",
       " 'City\\n',\n",
       " 'Autonomous area \\n',\n",
       " 'Country\\n',\n",
       " 'Notable games\\n',\n",
       " 'Notes\\n']"
      ]
     },
     "execution_count": 11,
     "metadata": {},
     "output_type": "execute_result"
    }
   ],
   "source": [
    "feature_names"
   ]
  },
  {
   "cell_type": "code",
   "execution_count": 12,
   "metadata": {},
   "outputs": [],
   "source": [
    "def has_coords(tag):\n",
    "    if tag.has_attr('class'):\n",
    "        if tag['class'][0] == 'latitude' or tag['class'][0] == 'longitude':\n",
    "            return True\n",
    "    return False\n",
    "\n",
    "def get_coords(child):\n",
    "    coords = []\n",
    "    for coord in child.find_all(has_coords):\n",
    "        coords.append(coord.string)\n",
    "    if coords:\n",
    "        if trace:\n",
    "            return 'C = {}'.format(' '.join(coords))\n",
    "        else:\n",
    "            return ' '.join(coords)\n",
    "    else:\n",
    "        return ''\n",
    "\n",
    "samples = []\n",
    "sample_rows = table.find_all('tr')[1:]\n",
    "for sample_row in sample_rows:\n",
    "    features = []\n",
    "    for feature_col in sample_row.find_all('td'):\n",
    "        feature_value = ''\n",
    "        text = feature_col.string\n",
    "        if text:\n",
    "            if trace:\n",
    "                features.append('T = {}'.format(text))\n",
    "            else:\n",
    "                features.append(text)\n",
    "            continue\n",
    "        \n",
    "        for child in feature_col.children:\n",
    "            if child.name == 'span':\n",
    "                if child.has_attr('class'):\n",
    "                    if child['class'] == 'display:none':\n",
    "                        continue\n",
    "                if child.find_all(has_coords):\n",
    "                    feature_value = get_coords(child)\n",
    "                    if feature_value:\n",
    "                        break\n",
    "                    else:\n",
    "                        continue\n",
    "            if child.name == 'sup':\n",
    "                continue\n",
    "            if child.name == 'a':\n",
    "                if child.string[0] == '[':\n",
    "                    continue            \n",
    "            if child.name == 'a':\n",
    "                if trace:\n",
    "                    feature_value = 'A = {}'.format(child.string)\n",
    "                else:\n",
    "                    feature_value = child.string\n",
    "                break\n",
    "            if child.name == 'font':\n",
    "                if trace:\n",
    "                    feature_value = 'F = {}'.format(child.string)\n",
    "                else:\n",
    "                    feature_value = child.string\n",
    "                break\n",
    "            try:\n",
    "                # feature_value = '' for any tags not covered above\n",
    "                content = child.contents\n",
    "            except AttributeError:\n",
    "                # Handle whitespace between child tags, treated as a child string\n",
    "                if child.isspace():\n",
    "                    continue\n",
    "                if trace:\n",
    "                    feature_value = 'E = {}'.format(child)\n",
    "                else:\n",
    "                    feature_value = child\n",
    "                break\n",
    "        features.append(feature_value)\n",
    "    samples.append(dict(zip(feature_names, features)))"
   ]
  },
  {
   "cell_type": "code",
   "execution_count": 13,
   "metadata": {},
   "outputs": [
    {
     "data": {
      "text/html": [
       "<div>\n",
       "<style scoped>\n",
       "    .dataframe tbody tr th:only-of-type {\n",
       "        vertical-align: middle;\n",
       "    }\n",
       "\n",
       "    .dataframe tbody tr th {\n",
       "        vertical-align: top;\n",
       "    }\n",
       "\n",
       "    .dataframe thead th {\n",
       "        text-align: right;\n",
       "    }\n",
       "</style>\n",
       "<table border=\"1\" class=\"dataframe\">\n",
       "  <thead>\n",
       "    <tr style=\"text-align: right;\">\n",
       "      <th></th>\n",
       "      <th>Developer\\n</th>\n",
       "      <th>City\\n</th>\n",
       "      <th>Autonomous area \\n</th>\n",
       "      <th>Country\\n</th>\n",
       "      <th>Notable games\\n</th>\n",
       "      <th>Notes\\n</th>\n",
       "    </tr>\n",
       "  </thead>\n",
       "  <tbody>\n",
       "    <tr>\n",
       "      <td>0</td>\n",
       "      <td>11 bit studios</td>\n",
       "      <td>Warsaw</td>\n",
       "      <td>\\n</td>\n",
       "      <td>Poland</td>\n",
       "      <td></td>\n",
       "      <td>\\n</td>\n",
       "    </tr>\n",
       "    <tr>\n",
       "      <td>1</td>\n",
       "      <td>ACE Team</td>\n",
       "      <td>Santiago</td>\n",
       "      <td>Santiago</td>\n",
       "      <td>Chile</td>\n",
       "      <td></td>\n",
       "      <td>\\n</td>\n",
       "    </tr>\n",
       "    <tr>\n",
       "      <td>2</td>\n",
       "      <td>Akupara Games</td>\n",
       "      <td>Los Angeles</td>\n",
       "      <td>California</td>\n",
       "      <td>United States</td>\n",
       "      <td>Whispering Willows</td>\n",
       "      <td>\\n</td>\n",
       "    </tr>\n",
       "    <tr>\n",
       "      <td>3</td>\n",
       "      <td>Alec Holowka</td>\n",
       "      <td>Winnipeg</td>\n",
       "      <td>Manitoba</td>\n",
       "      <td>Canada</td>\n",
       "      <td></td>\n",
       "      <td>\\n</td>\n",
       "    </tr>\n",
       "    <tr>\n",
       "      <td>4</td>\n",
       "      <td>Alientrap</td>\n",
       "      <td>Saskatoon</td>\n",
       "      <td>Saskatchewan</td>\n",
       "      <td>Canada</td>\n",
       "      <td></td>\n",
       "      <td>\\n</td>\n",
       "    </tr>\n",
       "  </tbody>\n",
       "</table>\n",
       "</div>"
      ],
      "text/plain": [
       "      Developer\\n       City\\n Autonomous area \\n      Country\\n  \\\n",
       "0  11 bit studios       Warsaw                 \\n         Poland   \n",
       "1        ACE Team     Santiago           Santiago          Chile   \n",
       "2   Akupara Games  Los Angeles         California  United States   \n",
       "3    Alec Holowka     Winnipeg           Manitoba         Canada   \n",
       "4       Alientrap    Saskatoon       Saskatchewan         Canada   \n",
       "\n",
       "      Notable games\\n Notes\\n  \n",
       "0                          \\n  \n",
       "1                          \\n  \n",
       "2  Whispering Willows      \\n  \n",
       "3                          \\n  \n",
       "4                          \\n  "
      ]
     },
     "execution_count": 13,
     "metadata": {},
     "output_type": "execute_result"
    },
    {
     "data": {
      "text/html": [
       "<div>\n",
       "<style scoped>\n",
       "    .dataframe tbody tr th:only-of-type {\n",
       "        vertical-align: middle;\n",
       "    }\n",
       "\n",
       "    .dataframe tbody tr th {\n",
       "        vertical-align: top;\n",
       "    }\n",
       "\n",
       "    .dataframe thead th {\n",
       "        text-align: right;\n",
       "    }\n",
       "</style>\n",
       "<table border=\"1\" class=\"dataframe\">\n",
       "  <thead>\n",
       "    <tr style=\"text-align: right;\">\n",
       "      <th></th>\n",
       "      <th>Developer\\n</th>\n",
       "      <th>City\\n</th>\n",
       "      <th>Autonomous area \\n</th>\n",
       "      <th>Country\\n</th>\n",
       "      <th>Notable games\\n</th>\n",
       "      <th>Notes\\n</th>\n",
       "    </tr>\n",
       "  </thead>\n",
       "  <tbody>\n",
       "    <tr>\n",
       "      <td>196</td>\n",
       "      <td>Zachary Barth</td>\n",
       "      <td>Seattle</td>\n",
       "      <td>Washington</td>\n",
       "      <td>United States</td>\n",
       "      <td></td>\n",
       "      <td>\\n</td>\n",
       "    </tr>\n",
       "    <tr>\n",
       "      <td>197</td>\n",
       "      <td>Zoetrope Interactive</td>\n",
       "      <td>Istanbul</td>\n",
       "      <td>\\n</td>\n",
       "      <td>Turkey</td>\n",
       "      <td></td>\n",
       "      <td>\\n</td>\n",
       "    </tr>\n",
       "    <tr>\n",
       "      <td>198</td>\n",
       "      <td>Zoink</td>\n",
       "      <td>Gothenburg</td>\n",
       "      <td>\\n</td>\n",
       "      <td>Sweden</td>\n",
       "      <td></td>\n",
       "      <td>\\n</td>\n",
       "    </tr>\n",
       "    <tr>\n",
       "      <td>199</td>\n",
       "      <td>Zoonami</td>\n",
       "      <td>Cambridge</td>\n",
       "      <td>England</td>\n",
       "      <td>United Kingdom</td>\n",
       "      <td></td>\n",
       "      <td>\\n</td>\n",
       "    </tr>\n",
       "    <tr>\n",
       "      <td>200</td>\n",
       "      <td>ZootFly</td>\n",
       "      <td>Ljubljana</td>\n",
       "      <td>\\n</td>\n",
       "      <td>Slovenia</td>\n",
       "      <td></td>\n",
       "      <td>\\n</td>\n",
       "    </tr>\n",
       "  </tbody>\n",
       "</table>\n",
       "</div>"
      ],
      "text/plain": [
       "              Developer\\n      City\\n Autonomous area \\n       Country\\n  \\\n",
       "196         Zachary Barth     Seattle         Washington   United States   \n",
       "197  Zoetrope Interactive    Istanbul                 \\n          Turkey   \n",
       "198                 Zoink  Gothenburg                 \\n          Sweden   \n",
       "199               Zoonami   Cambridge            England  United Kingdom   \n",
       "200               ZootFly   Ljubljana                 \\n        Slovenia   \n",
       "\n",
       "    Notable games\\n Notes\\n  \n",
       "196                      \\n  \n",
       "197                      \\n  \n",
       "198                      \\n  \n",
       "199                      \\n  \n",
       "200                      \\n  "
      ]
     },
     "execution_count": 13,
     "metadata": {},
     "output_type": "execute_result"
    }
   ],
   "source": [
    "df = pd.DataFrame(samples)\n",
    "df.head()\n",
    "df.tail()"
   ]
  },
  {
   "cell_type": "code",
   "execution_count": 14,
   "metadata": {},
   "outputs": [],
   "source": [
    "to_drop = ['City\\n', 'Autonomous area \\n', 'Country\\n', 'Notable games\\n', 'Notes\\n']\n",
    "copy = df.copy()\n",
    "copy.drop(to_drop, axis = 1, inplace=True)"
   ]
  },
  {
   "cell_type": "code",
   "execution_count": 15,
   "metadata": {},
   "outputs": [
    {
     "data": {
      "text/html": [
       "<div>\n",
       "<style scoped>\n",
       "    .dataframe tbody tr th:only-of-type {\n",
       "        vertical-align: middle;\n",
       "    }\n",
       "\n",
       "    .dataframe tbody tr th {\n",
       "        vertical-align: top;\n",
       "    }\n",
       "\n",
       "    .dataframe thead th {\n",
       "        text-align: right;\n",
       "    }\n",
       "</style>\n",
       "<table border=\"1\" class=\"dataframe\">\n",
       "  <thead>\n",
       "    <tr style=\"text-align: right;\">\n",
       "      <th></th>\n",
       "      <th>Developer\\n</th>\n",
       "    </tr>\n",
       "  </thead>\n",
       "  <tbody>\n",
       "    <tr>\n",
       "      <td>0</td>\n",
       "      <td>11 bit studios</td>\n",
       "    </tr>\n",
       "    <tr>\n",
       "      <td>1</td>\n",
       "      <td>ACE Team</td>\n",
       "    </tr>\n",
       "    <tr>\n",
       "      <td>2</td>\n",
       "      <td>Akupara Games</td>\n",
       "    </tr>\n",
       "    <tr>\n",
       "      <td>3</td>\n",
       "      <td>Alec Holowka</td>\n",
       "    </tr>\n",
       "    <tr>\n",
       "      <td>4</td>\n",
       "      <td>Alientrap</td>\n",
       "    </tr>\n",
       "    <tr>\n",
       "      <td>...</td>\n",
       "      <td>...</td>\n",
       "    </tr>\n",
       "    <tr>\n",
       "      <td>196</td>\n",
       "      <td>Zachary Barth</td>\n",
       "    </tr>\n",
       "    <tr>\n",
       "      <td>197</td>\n",
       "      <td>Zoetrope Interactive</td>\n",
       "    </tr>\n",
       "    <tr>\n",
       "      <td>198</td>\n",
       "      <td>Zoink</td>\n",
       "    </tr>\n",
       "    <tr>\n",
       "      <td>199</td>\n",
       "      <td>Zoonami</td>\n",
       "    </tr>\n",
       "    <tr>\n",
       "      <td>200</td>\n",
       "      <td>ZootFly</td>\n",
       "    </tr>\n",
       "  </tbody>\n",
       "</table>\n",
       "<p>201 rows × 1 columns</p>\n",
       "</div>"
      ],
      "text/plain": [
       "              Developer\\n\n",
       "0          11 bit studios\n",
       "1                ACE Team\n",
       "2           Akupara Games\n",
       "3            Alec Holowka\n",
       "4               Alientrap\n",
       "..                    ...\n",
       "196         Zachary Barth\n",
       "197  Zoetrope Interactive\n",
       "198                 Zoink\n",
       "199               Zoonami\n",
       "200               ZootFly\n",
       "\n",
       "[201 rows x 1 columns]"
      ]
     },
     "execution_count": 15,
     "metadata": {},
     "output_type": "execute_result"
    }
   ],
   "source": [
    "copy"
   ]
  },
  {
   "cell_type": "code",
   "execution_count": 17,
   "metadata": {},
   "outputs": [],
   "source": [
    "copy.columns = ['Developers']"
   ]
  },
  {
   "cell_type": "code",
   "execution_count": 18,
   "metadata": {},
   "outputs": [
    {
     "data": {
      "text/html": [
       "<div>\n",
       "<style scoped>\n",
       "    .dataframe tbody tr th:only-of-type {\n",
       "        vertical-align: middle;\n",
       "    }\n",
       "\n",
       "    .dataframe tbody tr th {\n",
       "        vertical-align: top;\n",
       "    }\n",
       "\n",
       "    .dataframe thead th {\n",
       "        text-align: right;\n",
       "    }\n",
       "</style>\n",
       "<table border=\"1\" class=\"dataframe\">\n",
       "  <thead>\n",
       "    <tr style=\"text-align: right;\">\n",
       "      <th></th>\n",
       "      <th>Developers</th>\n",
       "    </tr>\n",
       "  </thead>\n",
       "  <tbody>\n",
       "    <tr>\n",
       "      <td>0</td>\n",
       "      <td>11 bit studios</td>\n",
       "    </tr>\n",
       "    <tr>\n",
       "      <td>1</td>\n",
       "      <td>ACE Team</td>\n",
       "    </tr>\n",
       "    <tr>\n",
       "      <td>2</td>\n",
       "      <td>Akupara Games</td>\n",
       "    </tr>\n",
       "    <tr>\n",
       "      <td>3</td>\n",
       "      <td>Alec Holowka</td>\n",
       "    </tr>\n",
       "    <tr>\n",
       "      <td>4</td>\n",
       "      <td>Alientrap</td>\n",
       "    </tr>\n",
       "    <tr>\n",
       "      <td>...</td>\n",
       "      <td>...</td>\n",
       "    </tr>\n",
       "    <tr>\n",
       "      <td>196</td>\n",
       "      <td>Zachary Barth</td>\n",
       "    </tr>\n",
       "    <tr>\n",
       "      <td>197</td>\n",
       "      <td>Zoetrope Interactive</td>\n",
       "    </tr>\n",
       "    <tr>\n",
       "      <td>198</td>\n",
       "      <td>Zoink</td>\n",
       "    </tr>\n",
       "    <tr>\n",
       "      <td>199</td>\n",
       "      <td>Zoonami</td>\n",
       "    </tr>\n",
       "    <tr>\n",
       "      <td>200</td>\n",
       "      <td>ZootFly</td>\n",
       "    </tr>\n",
       "  </tbody>\n",
       "</table>\n",
       "<p>201 rows × 1 columns</p>\n",
       "</div>"
      ],
      "text/plain": [
       "               Developers\n",
       "0          11 bit studios\n",
       "1                ACE Team\n",
       "2           Akupara Games\n",
       "3            Alec Holowka\n",
       "4               Alientrap\n",
       "..                    ...\n",
       "196         Zachary Barth\n",
       "197  Zoetrope Interactive\n",
       "198                 Zoink\n",
       "199               Zoonami\n",
       "200               ZootFly\n",
       "\n",
       "[201 rows x 1 columns]"
      ]
     },
     "execution_count": 18,
     "metadata": {},
     "output_type": "execute_result"
    }
   ],
   "source": [
    "copy"
   ]
  },
  {
   "cell_type": "code",
   "execution_count": 20,
   "metadata": {},
   "outputs": [],
   "source": [
    "dataset_file_name = 'D:\\Actual education\\ML Project\\{}.csv'.format(wikipedia_page)\n",
    "if not trace:\n",
    "    copy.to_csv(dataset_file_name, index=False)"
   ]
  },
  {
   "cell_type": "code",
   "execution_count": null,
   "metadata": {},
   "outputs": [],
   "source": []
  },
  {
   "cell_type": "code",
   "execution_count": null,
   "metadata": {},
   "outputs": [],
   "source": []
  }
 ],
 "metadata": {
  "kernelspec": {
   "display_name": "Python 3",
   "language": "python",
   "name": "python3"
  },
  "language_info": {
   "codemirror_mode": {
    "name": "ipython",
    "version": 3
   },
   "file_extension": ".py",
   "mimetype": "text/x-python",
   "name": "python",
   "nbconvert_exporter": "python",
   "pygments_lexer": "ipython3",
   "version": "3.7.4"
  }
 },
 "nbformat": 4,
 "nbformat_minor": 2
}
